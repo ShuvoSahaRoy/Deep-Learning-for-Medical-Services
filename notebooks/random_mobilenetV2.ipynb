{
 "cells": [
  {
   "cell_type": "markdown",
   "metadata": {
    "id": "yVMp8WykncxX"
   },
   "source": [
    "## Transfer Learning mobilenetV2 using Tensorflow"
   ]
  },
  {
   "cell_type": "code",
   "execution_count": 2,
   "metadata": {
    "colab": {
     "base_uri": "https://localhost:8080/"
    },
    "id": "lBBW2SFYncxe",
    "outputId": "eb9a4e8b-cefd-405b-8272-c47f33099152"
   },
   "outputs": [
    {
     "name": "stdout",
     "output_type": "stream",
     "text": [
      "Wed Nov  9 04:46:36 2022       \n",
      "+-----------------------------------------------------------------------------+\n",
      "| NVIDIA-SMI 526.47       Driver Version: 526.47       CUDA Version: 12.0     |\n",
      "|-------------------------------+----------------------+----------------------+\n",
      "| GPU  Name            TCC/WDDM | Bus-Id        Disp.A | Volatile Uncorr. ECC |\n",
      "| Fan  Temp  Perf  Pwr:Usage/Cap|         Memory-Usage | GPU-Util  Compute M. |\n",
      "|                               |                      |               MIG M. |\n",
      "|===============================+======================+======================|\n",
      "|   0  NVIDIA GeForce ... WDDM  | 00000000:01:00.0 Off |                  N/A |\n",
      "| N/A    0C    P8    N/A /  N/A |      0MiB /  2048MiB |      0%      Default |\n",
      "|                               |                      |                  N/A |\n",
      "+-------------------------------+----------------------+----------------------+\n",
      "                                                                               \n",
      "+-----------------------------------------------------------------------------+\n",
      "| Processes:                                                                  |\n",
      "|  GPU   GI   CI        PID   Type   Process name                  GPU Memory |\n",
      "|        ID   ID                                                   Usage      |\n",
      "|=============================================================================|\n",
      "|    0   N/A  N/A     10820    C+G   ...cw5n1h2txyewy\\LockApp.exe    N/A      |\n",
      "|    0   N/A  N/A     13500    C+G   ...artMenuExperienceHost.exe    N/A      |\n",
      "|    0   N/A  N/A     14120    C+G   ...5n1h2txyewy\\SearchApp.exe    N/A      |\n",
      "|    0   N/A  N/A     14232    C+G   ...5n1h2txyewy\\SearchApp.exe    N/A      |\n",
      "|    0   N/A  N/A     16496    C+G   ...2txyewy\\TextInputHost.exe    N/A      |\n",
      "|    0   N/A  N/A     18028    C+G   ...5.0.2.0\\GoogleDriveFS.exe    N/A      |\n",
      "+-----------------------------------------------------------------------------+\n"
     ]
    }
   ],
   "source": [
    "!nvidia-smi"
   ]
  },
  {
   "cell_type": "code",
   "execution_count": 1,
   "metadata": {
    "id": "Qz9SKO3Gncxj"
   },
   "outputs": [],
   "source": [
    "\n",
    "import tensorflow as tf\n",
    "from tensorflow.keras.layers import Input, Lambda, Dense, Flatten\n",
    "from tensorflow.keras.models import Model\n",
    "# from tensorflow.keras.applications.mobilenet_v2 import MobileNetV2\n",
    "from tensorflow.keras.preprocessing import image\n",
    "from tensorflow.keras.preprocessing.image import ImageDataGenerator,load_img, img_to_array\n",
    "from tensorflow.keras.applications.imagenet_utils import preprocess_input\n",
    "from tensorflow.keras.models import Sequential\n",
    "from tensorflow.keras.optimizers import Adam\n",
    "import numpy as np\n",
    "from glob import glob\n",
    "import matplotlib.pyplot as plt"
   ]
  },
  {
   "cell_type": "code",
   "execution_count": 3,
   "metadata": {
    "id": "TJUyTGsXncxj"
   },
   "outputs": [],
   "source": [
    "# re-size all the images to this\n",
    "IMAGE_SIZE = (224, 224)\n",
    "\n",
    "train_path = r'D:\\image classification\\done\\random model\\train'\n",
    "valid_path = r'D:\\image classification\\done\\random model\\val'\n",
    "test_path = r'D:\\image classification\\done\\random model\\test'"
   ]
  },
  {
   "cell_type": "code",
   "execution_count": 4,
   "metadata": {
    "colab": {
     "base_uri": "https://localhost:8080/"
    },
    "id": "yZH2135kncxm",
    "outputId": "809fb7b5-7039-464a-c00e-627313418921"
   },
   "outputs": [
    {
     "data": {
      "text/plain": [
       "['D:\\\\image classification\\\\done\\\\random model\\\\train\\\\medical',\n",
       " 'D:\\\\image classification\\\\done\\\\random model\\\\train\\\\random']"
      ]
     },
     "execution_count": 4,
     "metadata": {},
     "output_type": "execute_result"
    }
   ],
   "source": [
    "  # useful for getting number of output classes\n",
    "folders = glob(r'D:\\image classification\\done\\random model\\train\\*')\n",
    "folders"
   ]
  },
  {
   "cell_type": "code",
   "execution_count": 6,
   "metadata": {
    "colab": {
     "base_uri": "https://localhost:8080/"
    },
    "id": "jsxFjgYFSVcJ",
    "outputId": "227a13be-8f2c-4027-f249-7df6167ee8a4"
   },
   "outputs": [
    {
     "name": "stdout",
     "output_type": "stream",
     "text": [
      "No of Random files 2943\n",
      "No of Medical files 3214\n",
      "\n"
     ]
    }
   ],
   "source": [
    "import os\n",
    "random_train = len(os.listdir(folders[1]))\n",
    "medical_train = len(os.listdir(folders[0]))\n",
    "print(f\"No of Random files {random_train}\\nNo of Medical files {medical_train}\\n\")"
   ]
  },
  {
   "cell_type": "code",
   "execution_count": 20,
   "metadata": {
    "colab": {
     "base_uri": "https://localhost:8080/"
    },
    "id": "Yznz8N_ancxp",
    "outputId": "a4cd740e-c6de-4883-e092-1ae14bd22a25"
   },
   "outputs": [
    {
     "name": "stdout",
     "output_type": "stream",
     "text": [
      "Found 6139 images belonging to 2 classes.\n"
     ]
    }
   ],
   "source": [
    "# Use the Image Data Generator to import the images from the dataset\n",
    "from tensorflow.keras.preprocessing.image import ImageDataGenerator\n",
    "\n",
    "# train_datagen = ImageDataGenerator(rescale = 1./255,\n",
    "#                                    shear_range = 0.2,\n",
    "#                                    zoom_range = 0.2,\n",
    "#                                    horizontal_flip = True)\n",
    "\n",
    "train_datagen = ImageDataGenerator(rotation_range=15,\n",
    "                                    rescale=1./255,\n",
    "                                    shear_range=0.1,\n",
    "                                    zoom_range=0.2,\n",
    "                                    horizontal_flip=True,\n",
    "                                    width_shift_range=0.1,\n",
    "                                    height_shift_range=0.1)\n",
    "# Make sure you provide the same target size as initialied for the image size\n",
    "training_set = train_datagen.flow_from_directory(train_path,\n",
    "                                                 target_size = (224, 224),\n",
    "                                                 batch_size = 16,\n",
    "                                                 class_mode = 'binary',\n",
    "                                                 color_mode=\"rgb\")"
   ]
  },
  {
   "cell_type": "code",
   "execution_count": 21,
   "metadata": {
    "colab": {
     "base_uri": "https://localhost:8080/"
    },
    "id": "ERIFj7ymDxTy",
    "outputId": "eccd2c08-6d55-40aa-a9fd-6f3d5300c737"
   },
   "outputs": [
    {
     "name": "stdout",
     "output_type": "stream",
     "text": [
      "Found 1689 images belonging to 2 classes.\n"
     ]
    }
   ],
   "source": [
    "test_datagen = ImageDataGenerator(rescale = 1./255)\n",
    "val_set = test_datagen.flow_from_directory(valid_path,\n",
    "                                            target_size = (224, 224),\n",
    "                                            batch_size = 16,\n",
    "                                            class_mode = 'binary',\n",
    "                                            shuffle = True,\n",
    "                                            color_mode=\"rgb\")"
   ]
  },
  {
   "cell_type": "code",
   "execution_count": 22,
   "metadata": {
    "colab": {
     "base_uri": "https://localhost:8080/"
    },
    "id": "5Uun-edpncxq",
    "outputId": "c114af82-457e-40aa-91cf-3b27a2680794"
   },
   "outputs": [
    {
     "name": "stdout",
     "output_type": "stream",
     "text": [
      "Found 840 images belonging to 2 classes.\n"
     ]
    }
   ],
   "source": [
    "test_set = test_datagen.flow_from_directory(test_path,\n",
    "                                            target_size = (224, 224),\n",
    "                                            batch_size = 16,\n",
    "                                            class_mode = 'binary',\n",
    "                                            shuffle = False,\n",
    "                                            color_mode=\"rgb\")"
   ]
  },
  {
   "cell_type": "markdown",
   "metadata": {
    "id": "Lfj0nLS6Ey7h"
   },
   "source": [
    "### Model"
   ]
  },
  {
   "cell_type": "code",
   "execution_count": 23,
   "metadata": {
    "id": "MfG9JjaZEwNv"
   },
   "outputs": [],
   "source": [
    "engine = tf.keras.applications.MobileNetV2(\n",
    "        # Freezing the weights of the top layer in the InceptionResNetV2 pre-traiined model\n",
    "        include_top = False,\n",
    "        # Use Imagenet weights\n",
    "        weights = 'imagenet',\n",
    "        # Define input shape to 224x224x3\n",
    "        input_shape = (224 , 224 , 3),\n",
    "    )"
   ]
  },
  {
   "cell_type": "code",
   "execution_count": 24,
   "metadata": {
    "id": "6DYqFjZjFCPw"
   },
   "outputs": [],
   "source": [
    "x = tf.keras.layers.GlobalAveragePooling2D(name = 'avg_pool')(engine.output)\n",
    "x = tf.keras.layers.Dropout(0.75)(x)\n",
    "x = tf.keras.layers.BatchNormalization(\n",
    "                      axis=-1,\n",
    "                      momentum=0.99,\n",
    "                      epsilon=0.01,\n",
    "                      center=True,\n",
    "                      scale=True,\n",
    "                      beta_initializer=\"zeros\",\n",
    "                      gamma_initializer=\"ones\",\n",
    "                      moving_mean_initializer=\"zeros\",\n",
    "                      moving_variance_initializer=\"ones\",\n",
    "                  )(x)\n",
    "prediction = Dense(1, activation = 'sigmoid', name = 'dense_output')(x)\n",
    " # Build the Keras model\n",
    "model = Model(inputs = engine.input, outputs = prediction)"
   ]
  },
  {
   "cell_type": "code",
   "execution_count": 25,
   "metadata": {
    "id": "sbXZDV1Rncxp"
   },
   "outputs": [],
   "source": [
    "# tell the model what cost and optimization method to use\n",
    "model.compile(\n",
    "  loss='binary_crossentropy',\n",
    "  # optimizer='adam',\n",
    "  optimizer= Adam(learning_rate=0.001),\n",
    "  metrics=['accuracy']\n",
    ")"
   ]
  },
  {
   "cell_type": "code",
   "execution_count": 26,
   "metadata": {
    "colab": {
     "base_uri": "https://localhost:8080/"
    },
    "id": "EK1CXN1ZGzz3",
    "outputId": "09d8b7ef-d7d2-4388-95a5-a5f153009e6d"
   },
   "outputs": [
    {
     "name": "stdout",
     "output_type": "stream",
     "text": [
      "Model: \"model_1\"\n",
      "__________________________________________________________________________________________________\n",
      " Layer (type)                   Output Shape         Param #     Connected to                     \n",
      "==================================================================================================\n",
      " input_2 (InputLayer)           [(None, 224, 224, 3  0           []                               \n",
      "                                )]                                                                \n",
      "                                                                                                  \n",
      " Conv1 (Conv2D)                 (None, 112, 112, 32  864         ['input_2[0][0]']                \n",
      "                                )                                                                 \n",
      "                                                                                                  \n",
      " bn_Conv1 (BatchNormalization)  (None, 112, 112, 32  128         ['Conv1[0][0]']                  \n",
      "                                )                                                                 \n",
      "                                                                                                  \n",
      " Conv1_relu (ReLU)              (None, 112, 112, 32  0           ['bn_Conv1[0][0]']               \n",
      "                                )                                                                 \n",
      "                                                                                                  \n",
      " expanded_conv_depthwise (Depth  (None, 112, 112, 32  288        ['Conv1_relu[0][0]']             \n",
      " wiseConv2D)                    )                                                                 \n",
      "                                                                                                  \n",
      " expanded_conv_depthwise_BN (Ba  (None, 112, 112, 32  128        ['expanded_conv_depthwise[0][0]']\n",
      " tchNormalization)              )                                                                 \n",
      "                                                                                                  \n",
      " expanded_conv_depthwise_relu (  (None, 112, 112, 32  0          ['expanded_conv_depthwise_BN[0][0\n",
      " ReLU)                          )                                ]']                              \n",
      "                                                                                                  \n",
      " expanded_conv_project (Conv2D)  (None, 112, 112, 16  512        ['expanded_conv_depthwise_relu[0]\n",
      "                                )                                [0]']                            \n",
      "                                                                                                  \n",
      " expanded_conv_project_BN (Batc  (None, 112, 112, 16  64         ['expanded_conv_project[0][0]']  \n",
      " hNormalization)                )                                                                 \n",
      "                                                                                                  \n",
      " block_1_expand (Conv2D)        (None, 112, 112, 96  1536        ['expanded_conv_project_BN[0][0]'\n",
      "                                )                                ]                                \n",
      "                                                                                                  \n",
      " block_1_expand_BN (BatchNormal  (None, 112, 112, 96  384        ['block_1_expand[0][0]']         \n",
      " ization)                       )                                                                 \n",
      "                                                                                                  \n",
      " block_1_expand_relu (ReLU)     (None, 112, 112, 96  0           ['block_1_expand_BN[0][0]']      \n",
      "                                )                                                                 \n",
      "                                                                                                  \n",
      " block_1_pad (ZeroPadding2D)    (None, 113, 113, 96  0           ['block_1_expand_relu[0][0]']    \n",
      "                                )                                                                 \n",
      "                                                                                                  \n",
      " block_1_depthwise (DepthwiseCo  (None, 56, 56, 96)  864         ['block_1_pad[0][0]']            \n",
      " nv2D)                                                                                            \n",
      "                                                                                                  \n",
      " block_1_depthwise_BN (BatchNor  (None, 56, 56, 96)  384         ['block_1_depthwise[0][0]']      \n",
      " malization)                                                                                      \n",
      "                                                                                                  \n",
      " block_1_depthwise_relu (ReLU)  (None, 56, 56, 96)   0           ['block_1_depthwise_BN[0][0]']   \n",
      "                                                                                                  \n",
      " block_1_project (Conv2D)       (None, 56, 56, 24)   2304        ['block_1_depthwise_relu[0][0]'] \n",
      "                                                                                                  \n",
      " block_1_project_BN (BatchNorma  (None, 56, 56, 24)  96          ['block_1_project[0][0]']        \n",
      " lization)                                                                                        \n",
      "                                                                                                  \n",
      " block_2_expand (Conv2D)        (None, 56, 56, 144)  3456        ['block_1_project_BN[0][0]']     \n",
      "                                                                                                  \n",
      " block_2_expand_BN (BatchNormal  (None, 56, 56, 144)  576        ['block_2_expand[0][0]']         \n",
      " ization)                                                                                         \n",
      "                                                                                                  \n",
      " block_2_expand_relu (ReLU)     (None, 56, 56, 144)  0           ['block_2_expand_BN[0][0]']      \n",
      "                                                                                                  \n",
      " block_2_depthwise (DepthwiseCo  (None, 56, 56, 144)  1296       ['block_2_expand_relu[0][0]']    \n",
      " nv2D)                                                                                            \n",
      "                                                                                                  \n",
      " block_2_depthwise_BN (BatchNor  (None, 56, 56, 144)  576        ['block_2_depthwise[0][0]']      \n",
      " malization)                                                                                      \n",
      "                                                                                                  \n",
      " block_2_depthwise_relu (ReLU)  (None, 56, 56, 144)  0           ['block_2_depthwise_BN[0][0]']   \n",
      "                                                                                                  \n",
      " block_2_project (Conv2D)       (None, 56, 56, 24)   3456        ['block_2_depthwise_relu[0][0]'] \n",
      "                                                                                                  \n",
      " block_2_project_BN (BatchNorma  (None, 56, 56, 24)  96          ['block_2_project[0][0]']        \n",
      " lization)                                                                                        \n",
      "                                                                                                  \n",
      " block_2_add (Add)              (None, 56, 56, 24)   0           ['block_1_project_BN[0][0]',     \n",
      "                                                                  'block_2_project_BN[0][0]']     \n",
      "                                                                                                  \n",
      " block_3_expand (Conv2D)        (None, 56, 56, 144)  3456        ['block_2_add[0][0]']            \n",
      "                                                                                                  \n",
      " block_3_expand_BN (BatchNormal  (None, 56, 56, 144)  576        ['block_3_expand[0][0]']         \n",
      " ization)                                                                                         \n",
      "                                                                                                  \n"
     ]
    },
    {
     "name": "stdout",
     "output_type": "stream",
     "text": [
      " block_3_expand_relu (ReLU)     (None, 56, 56, 144)  0           ['block_3_expand_BN[0][0]']      \n",
      "                                                                                                  \n",
      " block_3_pad (ZeroPadding2D)    (None, 57, 57, 144)  0           ['block_3_expand_relu[0][0]']    \n",
      "                                                                                                  \n",
      " block_3_depthwise (DepthwiseCo  (None, 28, 28, 144)  1296       ['block_3_pad[0][0]']            \n",
      " nv2D)                                                                                            \n",
      "                                                                                                  \n",
      " block_3_depthwise_BN (BatchNor  (None, 28, 28, 144)  576        ['block_3_depthwise[0][0]']      \n",
      " malization)                                                                                      \n",
      "                                                                                                  \n",
      " block_3_depthwise_relu (ReLU)  (None, 28, 28, 144)  0           ['block_3_depthwise_BN[0][0]']   \n",
      "                                                                                                  \n",
      " block_3_project (Conv2D)       (None, 28, 28, 32)   4608        ['block_3_depthwise_relu[0][0]'] \n",
      "                                                                                                  \n",
      " block_3_project_BN (BatchNorma  (None, 28, 28, 32)  128         ['block_3_project[0][0]']        \n",
      " lization)                                                                                        \n",
      "                                                                                                  \n",
      " block_4_expand (Conv2D)        (None, 28, 28, 192)  6144        ['block_3_project_BN[0][0]']     \n",
      "                                                                                                  \n",
      " block_4_expand_BN (BatchNormal  (None, 28, 28, 192)  768        ['block_4_expand[0][0]']         \n",
      " ization)                                                                                         \n",
      "                                                                                                  \n",
      " block_4_expand_relu (ReLU)     (None, 28, 28, 192)  0           ['block_4_expand_BN[0][0]']      \n",
      "                                                                                                  \n",
      " block_4_depthwise (DepthwiseCo  (None, 28, 28, 192)  1728       ['block_4_expand_relu[0][0]']    \n",
      " nv2D)                                                                                            \n",
      "                                                                                                  \n",
      " block_4_depthwise_BN (BatchNor  (None, 28, 28, 192)  768        ['block_4_depthwise[0][0]']      \n",
      " malization)                                                                                      \n",
      "                                                                                                  \n",
      " block_4_depthwise_relu (ReLU)  (None, 28, 28, 192)  0           ['block_4_depthwise_BN[0][0]']   \n",
      "                                                                                                  \n",
      " block_4_project (Conv2D)       (None, 28, 28, 32)   6144        ['block_4_depthwise_relu[0][0]'] \n",
      "                                                                                                  \n",
      " block_4_project_BN (BatchNorma  (None, 28, 28, 32)  128         ['block_4_project[0][0]']        \n",
      " lization)                                                                                        \n",
      "                                                                                                  \n",
      " block_4_add (Add)              (None, 28, 28, 32)   0           ['block_3_project_BN[0][0]',     \n",
      "                                                                  'block_4_project_BN[0][0]']     \n",
      "                                                                                                  \n",
      " block_5_expand (Conv2D)        (None, 28, 28, 192)  6144        ['block_4_add[0][0]']            \n",
      "                                                                                                  \n",
      " block_5_expand_BN (BatchNormal  (None, 28, 28, 192)  768        ['block_5_expand[0][0]']         \n",
      " ization)                                                                                         \n",
      "                                                                                                  \n",
      " block_5_expand_relu (ReLU)     (None, 28, 28, 192)  0           ['block_5_expand_BN[0][0]']      \n",
      "                                                                                                  \n",
      " block_5_depthwise (DepthwiseCo  (None, 28, 28, 192)  1728       ['block_5_expand_relu[0][0]']    \n",
      " nv2D)                                                                                            \n",
      "                                                                                                  \n",
      " block_5_depthwise_BN (BatchNor  (None, 28, 28, 192)  768        ['block_5_depthwise[0][0]']      \n",
      " malization)                                                                                      \n",
      "                                                                                                  \n",
      " block_5_depthwise_relu (ReLU)  (None, 28, 28, 192)  0           ['block_5_depthwise_BN[0][0]']   \n",
      "                                                                                                  \n",
      " block_5_project (Conv2D)       (None, 28, 28, 32)   6144        ['block_5_depthwise_relu[0][0]'] \n",
      "                                                                                                  \n",
      " block_5_project_BN (BatchNorma  (None, 28, 28, 32)  128         ['block_5_project[0][0]']        \n",
      " lization)                                                                                        \n",
      "                                                                                                  \n",
      " block_5_add (Add)              (None, 28, 28, 32)   0           ['block_4_add[0][0]',            \n",
      "                                                                  'block_5_project_BN[0][0]']     \n",
      "                                                                                                  \n",
      " block_6_expand (Conv2D)        (None, 28, 28, 192)  6144        ['block_5_add[0][0]']            \n",
      "                                                                                                  \n",
      " block_6_expand_BN (BatchNormal  (None, 28, 28, 192)  768        ['block_6_expand[0][0]']         \n",
      " ization)                                                                                         \n",
      "                                                                                                  \n",
      " block_6_expand_relu (ReLU)     (None, 28, 28, 192)  0           ['block_6_expand_BN[0][0]']      \n",
      "                                                                                                  \n",
      " block_6_pad (ZeroPadding2D)    (None, 29, 29, 192)  0           ['block_6_expand_relu[0][0]']    \n",
      "                                                                                                  \n",
      " block_6_depthwise (DepthwiseCo  (None, 14, 14, 192)  1728       ['block_6_pad[0][0]']            \n",
      " nv2D)                                                                                            \n",
      "                                                                                                  \n",
      " block_6_depthwise_BN (BatchNor  (None, 14, 14, 192)  768        ['block_6_depthwise[0][0]']      \n",
      " malization)                                                                                      \n",
      "                                                                                                  \n",
      " block_6_depthwise_relu (ReLU)  (None, 14, 14, 192)  0           ['block_6_depthwise_BN[0][0]']   \n",
      "                                                                                                  \n",
      " block_6_project (Conv2D)       (None, 14, 14, 64)   12288       ['block_6_depthwise_relu[0][0]'] \n",
      "                                                                                                  \n",
      " block_6_project_BN (BatchNorma  (None, 14, 14, 64)  256         ['block_6_project[0][0]']        \n"
     ]
    },
    {
     "name": "stdout",
     "output_type": "stream",
     "text": [
      " lization)                                                                                        \n",
      "                                                                                                  \n",
      " block_7_expand (Conv2D)        (None, 14, 14, 384)  24576       ['block_6_project_BN[0][0]']     \n",
      "                                                                                                  \n",
      " block_7_expand_BN (BatchNormal  (None, 14, 14, 384)  1536       ['block_7_expand[0][0]']         \n",
      " ization)                                                                                         \n",
      "                                                                                                  \n",
      " block_7_expand_relu (ReLU)     (None, 14, 14, 384)  0           ['block_7_expand_BN[0][0]']      \n",
      "                                                                                                  \n",
      " block_7_depthwise (DepthwiseCo  (None, 14, 14, 384)  3456       ['block_7_expand_relu[0][0]']    \n",
      " nv2D)                                                                                            \n",
      "                                                                                                  \n",
      " block_7_depthwise_BN (BatchNor  (None, 14, 14, 384)  1536       ['block_7_depthwise[0][0]']      \n",
      " malization)                                                                                      \n",
      "                                                                                                  \n",
      " block_7_depthwise_relu (ReLU)  (None, 14, 14, 384)  0           ['block_7_depthwise_BN[0][0]']   \n",
      "                                                                                                  \n",
      " block_7_project (Conv2D)       (None, 14, 14, 64)   24576       ['block_7_depthwise_relu[0][0]'] \n",
      "                                                                                                  \n",
      " block_7_project_BN (BatchNorma  (None, 14, 14, 64)  256         ['block_7_project[0][0]']        \n",
      " lization)                                                                                        \n",
      "                                                                                                  \n",
      " block_7_add (Add)              (None, 14, 14, 64)   0           ['block_6_project_BN[0][0]',     \n",
      "                                                                  'block_7_project_BN[0][0]']     \n",
      "                                                                                                  \n",
      " block_8_expand (Conv2D)        (None, 14, 14, 384)  24576       ['block_7_add[0][0]']            \n",
      "                                                                                                  \n",
      " block_8_expand_BN (BatchNormal  (None, 14, 14, 384)  1536       ['block_8_expand[0][0]']         \n",
      " ization)                                                                                         \n",
      "                                                                                                  \n",
      " block_8_expand_relu (ReLU)     (None, 14, 14, 384)  0           ['block_8_expand_BN[0][0]']      \n",
      "                                                                                                  \n",
      " block_8_depthwise (DepthwiseCo  (None, 14, 14, 384)  3456       ['block_8_expand_relu[0][0]']    \n",
      " nv2D)                                                                                            \n",
      "                                                                                                  \n",
      " block_8_depthwise_BN (BatchNor  (None, 14, 14, 384)  1536       ['block_8_depthwise[0][0]']      \n",
      " malization)                                                                                      \n",
      "                                                                                                  \n",
      " block_8_depthwise_relu (ReLU)  (None, 14, 14, 384)  0           ['block_8_depthwise_BN[0][0]']   \n",
      "                                                                                                  \n",
      " block_8_project (Conv2D)       (None, 14, 14, 64)   24576       ['block_8_depthwise_relu[0][0]'] \n",
      "                                                                                                  \n",
      " block_8_project_BN (BatchNorma  (None, 14, 14, 64)  256         ['block_8_project[0][0]']        \n",
      " lization)                                                                                        \n",
      "                                                                                                  \n",
      " block_8_add (Add)              (None, 14, 14, 64)   0           ['block_7_add[0][0]',            \n",
      "                                                                  'block_8_project_BN[0][0]']     \n",
      "                                                                                                  \n",
      " block_9_expand (Conv2D)        (None, 14, 14, 384)  24576       ['block_8_add[0][0]']            \n",
      "                                                                                                  \n",
      " block_9_expand_BN (BatchNormal  (None, 14, 14, 384)  1536       ['block_9_expand[0][0]']         \n",
      " ization)                                                                                         \n",
      "                                                                                                  \n",
      " block_9_expand_relu (ReLU)     (None, 14, 14, 384)  0           ['block_9_expand_BN[0][0]']      \n",
      "                                                                                                  \n",
      " block_9_depthwise (DepthwiseCo  (None, 14, 14, 384)  3456       ['block_9_expand_relu[0][0]']    \n",
      " nv2D)                                                                                            \n",
      "                                                                                                  \n",
      " block_9_depthwise_BN (BatchNor  (None, 14, 14, 384)  1536       ['block_9_depthwise[0][0]']      \n",
      " malization)                                                                                      \n",
      "                                                                                                  \n",
      " block_9_depthwise_relu (ReLU)  (None, 14, 14, 384)  0           ['block_9_depthwise_BN[0][0]']   \n",
      "                                                                                                  \n",
      " block_9_project (Conv2D)       (None, 14, 14, 64)   24576       ['block_9_depthwise_relu[0][0]'] \n",
      "                                                                                                  \n",
      " block_9_project_BN (BatchNorma  (None, 14, 14, 64)  256         ['block_9_project[0][0]']        \n",
      " lization)                                                                                        \n",
      "                                                                                                  \n",
      " block_9_add (Add)              (None, 14, 14, 64)   0           ['block_8_add[0][0]',            \n",
      "                                                                  'block_9_project_BN[0][0]']     \n",
      "                                                                                                  \n",
      " block_10_expand (Conv2D)       (None, 14, 14, 384)  24576       ['block_9_add[0][0]']            \n",
      "                                                                                                  \n",
      " block_10_expand_BN (BatchNorma  (None, 14, 14, 384)  1536       ['block_10_expand[0][0]']        \n",
      " lization)                                                                                        \n",
      "                                                                                                  \n",
      " block_10_expand_relu (ReLU)    (None, 14, 14, 384)  0           ['block_10_expand_BN[0][0]']     \n",
      "                                                                                                  \n",
      " block_10_depthwise (DepthwiseC  (None, 14, 14, 384)  3456       ['block_10_expand_relu[0][0]']   \n",
      " onv2D)                                                                                           \n",
      "                                                                                                  \n",
      " block_10_depthwise_BN (BatchNo  (None, 14, 14, 384)  1536       ['block_10_depthwise[0][0]']     \n",
      " rmalization)                                                                                     \n"
     ]
    },
    {
     "name": "stdout",
     "output_type": "stream",
     "text": [
      "                                                                                                  \n",
      " block_10_depthwise_relu (ReLU)  (None, 14, 14, 384)  0          ['block_10_depthwise_BN[0][0]']  \n",
      "                                                                                                  \n",
      " block_10_project (Conv2D)      (None, 14, 14, 96)   36864       ['block_10_depthwise_relu[0][0]']\n",
      "                                                                                                  \n",
      " block_10_project_BN (BatchNorm  (None, 14, 14, 96)  384         ['block_10_project[0][0]']       \n",
      " alization)                                                                                       \n",
      "                                                                                                  \n",
      " block_11_expand (Conv2D)       (None, 14, 14, 576)  55296       ['block_10_project_BN[0][0]']    \n",
      "                                                                                                  \n",
      " block_11_expand_BN (BatchNorma  (None, 14, 14, 576)  2304       ['block_11_expand[0][0]']        \n",
      " lization)                                                                                        \n",
      "                                                                                                  \n",
      " block_11_expand_relu (ReLU)    (None, 14, 14, 576)  0           ['block_11_expand_BN[0][0]']     \n",
      "                                                                                                  \n",
      " block_11_depthwise (DepthwiseC  (None, 14, 14, 576)  5184       ['block_11_expand_relu[0][0]']   \n",
      " onv2D)                                                                                           \n",
      "                                                                                                  \n",
      " block_11_depthwise_BN (BatchNo  (None, 14, 14, 576)  2304       ['block_11_depthwise[0][0]']     \n",
      " rmalization)                                                                                     \n",
      "                                                                                                  \n",
      " block_11_depthwise_relu (ReLU)  (None, 14, 14, 576)  0          ['block_11_depthwise_BN[0][0]']  \n",
      "                                                                                                  \n",
      " block_11_project (Conv2D)      (None, 14, 14, 96)   55296       ['block_11_depthwise_relu[0][0]']\n",
      "                                                                                                  \n",
      " block_11_project_BN (BatchNorm  (None, 14, 14, 96)  384         ['block_11_project[0][0]']       \n",
      " alization)                                                                                       \n",
      "                                                                                                  \n",
      " block_11_add (Add)             (None, 14, 14, 96)   0           ['block_10_project_BN[0][0]',    \n",
      "                                                                  'block_11_project_BN[0][0]']    \n",
      "                                                                                                  \n",
      " block_12_expand (Conv2D)       (None, 14, 14, 576)  55296       ['block_11_add[0][0]']           \n",
      "                                                                                                  \n",
      " block_12_expand_BN (BatchNorma  (None, 14, 14, 576)  2304       ['block_12_expand[0][0]']        \n",
      " lization)                                                                                        \n",
      "                                                                                                  \n",
      " block_12_expand_relu (ReLU)    (None, 14, 14, 576)  0           ['block_12_expand_BN[0][0]']     \n",
      "                                                                                                  \n",
      " block_12_depthwise (DepthwiseC  (None, 14, 14, 576)  5184       ['block_12_expand_relu[0][0]']   \n",
      " onv2D)                                                                                           \n",
      "                                                                                                  \n",
      " block_12_depthwise_BN (BatchNo  (None, 14, 14, 576)  2304       ['block_12_depthwise[0][0]']     \n",
      " rmalization)                                                                                     \n",
      "                                                                                                  \n",
      " block_12_depthwise_relu (ReLU)  (None, 14, 14, 576)  0          ['block_12_depthwise_BN[0][0]']  \n",
      "                                                                                                  \n",
      " block_12_project (Conv2D)      (None, 14, 14, 96)   55296       ['block_12_depthwise_relu[0][0]']\n",
      "                                                                                                  \n",
      " block_12_project_BN (BatchNorm  (None, 14, 14, 96)  384         ['block_12_project[0][0]']       \n",
      " alization)                                                                                       \n",
      "                                                                                                  \n",
      " block_12_add (Add)             (None, 14, 14, 96)   0           ['block_11_add[0][0]',           \n",
      "                                                                  'block_12_project_BN[0][0]']    \n",
      "                                                                                                  \n",
      " block_13_expand (Conv2D)       (None, 14, 14, 576)  55296       ['block_12_add[0][0]']           \n",
      "                                                                                                  \n",
      " block_13_expand_BN (BatchNorma  (None, 14, 14, 576)  2304       ['block_13_expand[0][0]']        \n",
      " lization)                                                                                        \n",
      "                                                                                                  \n",
      " block_13_expand_relu (ReLU)    (None, 14, 14, 576)  0           ['block_13_expand_BN[0][0]']     \n",
      "                                                                                                  \n",
      " block_13_pad (ZeroPadding2D)   (None, 15, 15, 576)  0           ['block_13_expand_relu[0][0]']   \n",
      "                                                                                                  \n",
      " block_13_depthwise (DepthwiseC  (None, 7, 7, 576)   5184        ['block_13_pad[0][0]']           \n",
      " onv2D)                                                                                           \n",
      "                                                                                                  \n",
      " block_13_depthwise_BN (BatchNo  (None, 7, 7, 576)   2304        ['block_13_depthwise[0][0]']     \n",
      " rmalization)                                                                                     \n",
      "                                                                                                  \n",
      " block_13_depthwise_relu (ReLU)  (None, 7, 7, 576)   0           ['block_13_depthwise_BN[0][0]']  \n",
      "                                                                                                  \n",
      " block_13_project (Conv2D)      (None, 7, 7, 160)    92160       ['block_13_depthwise_relu[0][0]']\n",
      "                                                                                                  \n",
      " block_13_project_BN (BatchNorm  (None, 7, 7, 160)   640         ['block_13_project[0][0]']       \n",
      " alization)                                                                                       \n",
      "                                                                                                  \n",
      " block_14_expand (Conv2D)       (None, 7, 7, 960)    153600      ['block_13_project_BN[0][0]']    \n",
      "                                                                                                  \n",
      " block_14_expand_BN (BatchNorma  (None, 7, 7, 960)   3840        ['block_14_expand[0][0]']        \n",
      " lization)                                                                                        \n",
      "                                                                                                  \n",
      " block_14_expand_relu (ReLU)    (None, 7, 7, 960)    0           ['block_14_expand_BN[0][0]']     \n",
      "                                                                                                  \n"
     ]
    },
    {
     "name": "stdout",
     "output_type": "stream",
     "text": [
      " block_14_depthwise (DepthwiseC  (None, 7, 7, 960)   8640        ['block_14_expand_relu[0][0]']   \n",
      " onv2D)                                                                                           \n",
      "                                                                                                  \n",
      " block_14_depthwise_BN (BatchNo  (None, 7, 7, 960)   3840        ['block_14_depthwise[0][0]']     \n",
      " rmalization)                                                                                     \n",
      "                                                                                                  \n",
      " block_14_depthwise_relu (ReLU)  (None, 7, 7, 960)   0           ['block_14_depthwise_BN[0][0]']  \n",
      "                                                                                                  \n",
      " block_14_project (Conv2D)      (None, 7, 7, 160)    153600      ['block_14_depthwise_relu[0][0]']\n",
      "                                                                                                  \n",
      " block_14_project_BN (BatchNorm  (None, 7, 7, 160)   640         ['block_14_project[0][0]']       \n",
      " alization)                                                                                       \n",
      "                                                                                                  \n",
      " block_14_add (Add)             (None, 7, 7, 160)    0           ['block_13_project_BN[0][0]',    \n",
      "                                                                  'block_14_project_BN[0][0]']    \n",
      "                                                                                                  \n",
      " block_15_expand (Conv2D)       (None, 7, 7, 960)    153600      ['block_14_add[0][0]']           \n",
      "                                                                                                  \n",
      " block_15_expand_BN (BatchNorma  (None, 7, 7, 960)   3840        ['block_15_expand[0][0]']        \n",
      " lization)                                                                                        \n",
      "                                                                                                  \n",
      " block_15_expand_relu (ReLU)    (None, 7, 7, 960)    0           ['block_15_expand_BN[0][0]']     \n",
      "                                                                                                  \n",
      " block_15_depthwise (DepthwiseC  (None, 7, 7, 960)   8640        ['block_15_expand_relu[0][0]']   \n",
      " onv2D)                                                                                           \n",
      "                                                                                                  \n",
      " block_15_depthwise_BN (BatchNo  (None, 7, 7, 960)   3840        ['block_15_depthwise[0][0]']     \n",
      " rmalization)                                                                                     \n",
      "                                                                                                  \n",
      " block_15_depthwise_relu (ReLU)  (None, 7, 7, 960)   0           ['block_15_depthwise_BN[0][0]']  \n",
      "                                                                                                  \n",
      " block_15_project (Conv2D)      (None, 7, 7, 160)    153600      ['block_15_depthwise_relu[0][0]']\n",
      "                                                                                                  \n",
      " block_15_project_BN (BatchNorm  (None, 7, 7, 160)   640         ['block_15_project[0][0]']       \n",
      " alization)                                                                                       \n",
      "                                                                                                  \n",
      " block_15_add (Add)             (None, 7, 7, 160)    0           ['block_14_add[0][0]',           \n",
      "                                                                  'block_15_project_BN[0][0]']    \n",
      "                                                                                                  \n",
      " block_16_expand (Conv2D)       (None, 7, 7, 960)    153600      ['block_15_add[0][0]']           \n",
      "                                                                                                  \n",
      " block_16_expand_BN (BatchNorma  (None, 7, 7, 960)   3840        ['block_16_expand[0][0]']        \n",
      " lization)                                                                                        \n",
      "                                                                                                  \n",
      " block_16_expand_relu (ReLU)    (None, 7, 7, 960)    0           ['block_16_expand_BN[0][0]']     \n",
      "                                                                                                  \n",
      " block_16_depthwise (DepthwiseC  (None, 7, 7, 960)   8640        ['block_16_expand_relu[0][0]']   \n",
      " onv2D)                                                                                           \n",
      "                                                                                                  \n",
      " block_16_depthwise_BN (BatchNo  (None, 7, 7, 960)   3840        ['block_16_depthwise[0][0]']     \n",
      " rmalization)                                                                                     \n",
      "                                                                                                  \n",
      " block_16_depthwise_relu (ReLU)  (None, 7, 7, 960)   0           ['block_16_depthwise_BN[0][0]']  \n",
      "                                                                                                  \n",
      " block_16_project (Conv2D)      (None, 7, 7, 320)    307200      ['block_16_depthwise_relu[0][0]']\n",
      "                                                                                                  \n",
      " block_16_project_BN (BatchNorm  (None, 7, 7, 320)   1280        ['block_16_project[0][0]']       \n",
      " alization)                                                                                       \n",
      "                                                                                                  \n",
      " Conv_1 (Conv2D)                (None, 7, 7, 1280)   409600      ['block_16_project_BN[0][0]']    \n",
      "                                                                                                  \n",
      " Conv_1_bn (BatchNormalization)  (None, 7, 7, 1280)  5120        ['Conv_1[0][0]']                 \n",
      "                                                                                                  \n",
      " out_relu (ReLU)                (None, 7, 7, 1280)   0           ['Conv_1_bn[0][0]']              \n",
      "                                                                                                  \n",
      " avg_pool (GlobalAveragePooling  (None, 1280)        0           ['out_relu[0][0]']               \n",
      " 2D)                                                                                              \n",
      "                                                                                                  \n",
      " dropout_1 (Dropout)            (None, 1280)         0           ['avg_pool[0][0]']               \n",
      "                                                                                                  \n",
      " batch_normalization_1 (BatchNo  (None, 1280)        5120        ['dropout_1[0][0]']              \n",
      " rmalization)                                                                                     \n",
      "                                                                                                  \n",
      " dense_output (Dense)           (None, 1)            1281        ['batch_normalization_1[0][0]']  \n",
      "                                                                                                  \n",
      "==================================================================================================\n",
      "Total params: 2,264,385\n",
      "Trainable params: 2,227,713\n",
      "Non-trainable params: 36,672\n",
      "__________________________________________________________________________________________________\n"
     ]
    }
   ],
   "source": [
    "model.summary()"
   ]
  },
  {
   "cell_type": "code",
   "execution_count": 27,
   "metadata": {
    "id": "XBiNyg-1HIdR"
   },
   "outputs": [],
   "source": [
    "early_stopping = tf.keras.callbacks.EarlyStopping(monitor='loss', patience=5)\n",
    "learning_rate_reduction = tf.keras.callbacks.ReduceLROnPlateau(monitor='val_accuracy',\n",
    "                                                            patience=2,\n",
    "                                                            verbose=2,\n",
    "                                                            factor=0.5,\n",
    "                                                            min_lr=0.00001)\n",
    "reduce_lr =  tf.keras.callbacks.ReduceLROnPlateau(monitor='val_loss', factor=0.5,\n",
    "                              patience=3, min_lr=0.00001)"
   ]
  },
  {
   "cell_type": "code",
   "execution_count": 29,
   "metadata": {
    "colab": {
     "base_uri": "https://localhost:8080/"
    },
    "id": "d5DZjDOFncxr",
    "outputId": "070a011b-f81e-433b-d6ff-5ccb491da3bf",
    "scrolled": true
   },
   "outputs": [
    {
     "name": "stdout",
     "output_type": "stream",
     "text": [
      "Epoch 1/20\n",
      "384/384 [==============================] - 410s 1s/step - loss: 0.0455 - accuracy: 0.9865 - val_loss: 0.1506 - val_accuracy: 0.9793 - lr: 0.0010\n",
      "Epoch 2/20\n",
      "384/384 [==============================] - 410s 1s/step - loss: 0.0732 - accuracy: 0.9769 - val_loss: 0.2214 - val_accuracy: 0.9811 - lr: 0.0010\n",
      "Epoch 3/20\n",
      "384/384 [==============================] - 411s 1s/step - loss: 0.0322 - accuracy: 0.9923 - val_loss: 4.2199 - val_accuracy: 0.8040 - lr: 0.0010\n",
      "Epoch 4/20\n",
      "384/384 [==============================] - ETA: 0s - loss: 0.0288 - accuracy: 0.9917\n",
      "Epoch 4: ReduceLROnPlateau reducing learning rate to 0.0002500000118743628.\n",
      "384/384 [==============================] - 411s 1s/step - loss: 0.0288 - accuracy: 0.9917 - val_loss: 0.2547 - val_accuracy: 0.9633 - lr: 5.0000e-04\n",
      "Epoch 5/20\n",
      "384/384 [==============================] - 411s 1s/step - loss: 0.0163 - accuracy: 0.9954 - val_loss: 0.0898 - val_accuracy: 0.9882 - lr: 2.5000e-04\n",
      "Epoch 6/20\n",
      "384/384 [==============================] - 410s 1s/step - loss: 0.0071 - accuracy: 0.9982 - val_loss: 0.0115 - val_accuracy: 0.9982 - lr: 2.5000e-04\n",
      "Epoch 7/20\n",
      "384/384 [==============================] - 409s 1s/step - loss: 0.0147 - accuracy: 0.9976 - val_loss: 0.0054 - val_accuracy: 0.9988 - lr: 2.5000e-04\n",
      "Epoch 8/20\n",
      "384/384 [==============================] - 410s 1s/step - loss: 0.0103 - accuracy: 0.9969 - val_loss: 0.0025 - val_accuracy: 1.0000 - lr: 2.5000e-04\n",
      "Epoch 9/20\n",
      "384/384 [==============================] - 410s 1s/step - loss: 0.0086 - accuracy: 0.9982 - val_loss: 0.0087 - val_accuracy: 0.9976 - lr: 2.5000e-04\n",
      "Epoch 10/20\n",
      "384/384 [==============================] - ETA: 0s - loss: 0.0065 - accuracy: 0.9976\n",
      "Epoch 10: ReduceLROnPlateau reducing learning rate to 0.0001250000059371814.\n",
      "384/384 [==============================] - 408s 1s/step - loss: 0.0065 - accuracy: 0.9976 - val_loss: 0.0090 - val_accuracy: 0.9982 - lr: 2.5000e-04\n",
      "Epoch 11/20\n",
      "384/384 [==============================] - 408s 1s/step - loss: 0.0059 - accuracy: 0.9982 - val_loss: 0.0089 - val_accuracy: 0.9970 - lr: 6.2500e-05\n",
      "Epoch 12/20\n",
      "384/384 [==============================] - ETA: 0s - loss: 0.0026 - accuracy: 0.9995\n",
      "Epoch 12: ReduceLROnPlateau reducing learning rate to 3.125000148429535e-05.\n",
      "384/384 [==============================] - 408s 1s/step - loss: 0.0026 - accuracy: 0.9995 - val_loss: 0.0085 - val_accuracy: 0.9964 - lr: 6.2500e-05\n",
      "Epoch 13/20\n",
      "384/384 [==============================] - 409s 1s/step - loss: 0.0036 - accuracy: 0.9995 - val_loss: 0.0079 - val_accuracy: 0.9982 - lr: 3.1250e-05\n",
      "Epoch 14/20\n",
      "384/384 [==============================] - ETA: 0s - loss: 0.0041 - accuracy: 0.9990\n",
      "Epoch 14: ReduceLROnPlateau reducing learning rate to 1e-05.\n",
      "384/384 [==============================] - 409s 1s/step - loss: 0.0041 - accuracy: 0.9990 - val_loss: 0.0207 - val_accuracy: 0.9917 - lr: 1.5625e-05\n",
      "Epoch 15/20\n",
      "384/384 [==============================] - 409s 1s/step - loss: 0.0021 - accuracy: 0.9997 - val_loss: 0.0183 - val_accuracy: 0.9923 - lr: 1.0000e-05\n",
      "Epoch 16/20\n",
      "384/384 [==============================] - 409s 1s/step - loss: 0.0015 - accuracy: 0.9998 - val_loss: 0.0150 - val_accuracy: 0.9929 - lr: 1.0000e-05\n",
      "Epoch 17/20\n",
      "384/384 [==============================] - 408s 1s/step - loss: 0.0022 - accuracy: 0.9995 - val_loss: 0.0126 - val_accuracy: 0.9953 - lr: 1.0000e-05\n",
      "Epoch 18/20\n",
      "384/384 [==============================] - 409s 1s/step - loss: 0.0051 - accuracy: 0.9990 - val_loss: 0.0129 - val_accuracy: 0.9953 - lr: 1.0000e-05\n",
      "Epoch 19/20\n",
      "384/384 [==============================] - 409s 1s/step - loss: 0.0015 - accuracy: 0.9998 - val_loss: 0.0150 - val_accuracy: 0.9935 - lr: 1.0000e-05\n",
      "Epoch 20/20\n",
      "384/384 [==============================] - 409s 1s/step - loss: 0.0026 - accuracy: 0.9997 - val_loss: 0.0117 - val_accuracy: 0.9964 - lr: 1.0000e-05\n"
     ]
    }
   ],
   "source": [
    "# fit the model\n",
    "# Run the cell. It will take some time to execute\n",
    "r = model.fit(\n",
    "  training_set,\n",
    "  validation_data=val_set,\n",
    "  epochs=20,\n",
    "  batch_size = 16,\n",
    "  callbacks=[early_stopping, reduce_lr , learning_rate_reduction]\n",
    ")"
   ]
  },
  {
   "cell_type": "code",
   "execution_count": 30,
   "metadata": {
    "id": "3WBZ9eYgncxs"
   },
   "outputs": [],
   "source": [
    "import matplotlib.pyplot as plt"
   ]
  },
  {
   "cell_type": "code",
   "execution_count": 31,
   "metadata": {
    "colab": {
     "base_uri": "https://localhost:8080/",
     "height": 580
    },
    "id": "a93nwtsJncxs",
    "outputId": "e5364fde-49f9-46c6-8833-12a0e38ab800"
   },
   "outputs": [
    {
     "data": {
      "image/png": "[encoded data removed]",
      "text/plain": [
       "<Figure size 640x480 with 1 Axes>"
      ]
     },
     "metadata": {},
     "output_type": "display_data"
    },
    {
     "name": "stdout",
     "output_type": "stream",
     "text": [
      "\n"
     ]
    },
    {
     "data": {
      "image/png": "[encoded data removed]",
      "text/plain": [
       "<Figure size 640x480 with 1 Axes>"
      ]
     },
     "metadata": {},
     "output_type": "display_data"
    },
    {
     "data": {
      "text/plain": [
       "<Figure size 640x480 with 0 Axes>"
      ]
     },
     "metadata": {},
     "output_type": "display_data"
    }
   ],
   "source": [
    "# plot the loss\n",
    "plt.plot(r.history['loss'], label='train loss')\n",
    "plt.plot(r.history['val_loss'], label='val loss')\n",
    "plt.legend()\n",
    "plt.title('Losses')\n",
    "plt.show()\n",
    "plt.savefig('LossVal_loss')\n",
    "print()\n",
    "# plot the accuracy\n",
    "plt.plot(r.history['accuracy'], label='train acc')\n",
    "plt.plot(r.history['val_accuracy'], label='val acc')\n",
    "plt.legend()\n",
    "plt.title('Accuracy')\n",
    "plt.show()\n",
    "plt.savefig('AccVal_acc')"
   ]
  },
  {
   "cell_type": "code",
   "execution_count": 32,
   "metadata": {
    "colab": {
     "base_uri": "https://localhost:8080/"
    },
    "id": "KA5rBheH2Dar",
    "outputId": "b139893d-9313-44f3-b1a0-c1338a282f98"
   },
   "outputs": [
    {
     "data": {
      "text/plain": [
       "0.9962534606456757"
      ]
     },
     "execution_count": 32,
     "metadata": {},
     "output_type": "execute_result"
    }
   ],
   "source": [
    "# average training accuracy\n",
    "np.mean(r.history['accuracy'])"
   ]
  },
  {
   "cell_type": "code",
   "execution_count": 33,
   "metadata": {
    "colab": {
     "base_uri": "https://localhost:8080/"
    },
    "id": "P5oi-pjPl83H",
    "outputId": "40b29591-0969-4ddf-dbb1-ce3cd1b4ad73"
   },
   "outputs": [
    {
     "name": "stdout",
     "output_type": "stream",
     "text": [
      "106/106 [==============================] - 33s 310ms/step - loss: 0.0117 - accuracy: 0.9964\n"
     ]
    },
    {
     "data": {
      "text/plain": [
       "[0.011716247536242008, 0.9964476227760315]"
      ]
     },
     "execution_count": 33,
     "metadata": {},
     "output_type": "execute_result"
    }
   ],
   "source": [
    "# val accuracy\n",
    "model.evaluate(val_set)"
   ]
  },
  {
   "cell_type": "code",
   "execution_count": 34,
   "metadata": {
    "colab": {
     "base_uri": "https://localhost:8080/"
    },
    "id": "o5UtRSPjz-RX",
    "outputId": "0ae748cd-9c23-42c9-df81-f308c54c6607"
   },
   "outputs": [
    {
     "name": "stdout",
     "output_type": "stream",
     "text": [
      "53/53 [==============================] - 19s 353ms/step - loss: 0.0193 - accuracy: 0.9929\n"
     ]
    },
    {
     "data": {
      "text/plain": [
       "[0.019294755533337593, 0.9928571581840515]"
      ]
     },
     "execution_count": 34,
     "metadata": {},
     "output_type": "execute_result"
    }
   ],
   "source": [
    "# test accuracy\n",
    "model.evaluate(test_set)"
   ]
  },
  {
   "cell_type": "code",
   "execution_count": 35,
   "metadata": {
    "colab": {
     "base_uri": "https://localhost:8080/"
    },
    "id": "ZoqbycbYLNBS",
    "outputId": "d9d4ed6e-b470-4012-8fb2-29757c2f2dce"
   },
   "outputs": [
    {
     "data": {
      "text/plain": [
       "{'medical': 0, 'random': 1}"
      ]
     },
     "execution_count": 35,
     "metadata": {},
     "output_type": "execute_result"
    }
   ],
   "source": [
    "test_set.class_indices"
   ]
  },
  {
   "cell_type": "code",
   "execution_count": 36,
   "metadata": {
    "colab": {
     "base_uri": "https://localhost:8080/"
    },
    "id": "IDfbNMzaoHin",
    "outputId": "9a8a28c9-492e-44e2-98f0-740c836ffe14"
   },
   "outputs": [
    {
     "data": {
      "text/plain": [
       "array([0, 0, 0, 0, 0, 0, 0, 0, 0, 0, 0, 0, 0, 0, 0, 0, 0, 0, 0, 0, 0, 0,\n",
       "       0, 0, 0, 0, 0, 0, 0, 0, 0, 0, 0, 0, 0, 0, 0, 0, 0, 0, 0, 0, 0, 0,\n",
       "       0, 0, 0, 0, 0, 0, 0, 0, 0, 0, 0, 0, 0, 0, 0, 0, 0, 0, 0, 0, 0, 0,\n",
       "       0, 0, 0, 0, 0, 0, 0, 0, 0, 0, 0, 0, 0, 0, 0, 0, 0, 0, 0, 0, 0, 0,\n",
       "       0, 0, 0, 0, 0, 0, 0, 0, 0, 0, 0, 0, 0, 0, 0, 0, 0, 0, 0, 0, 0, 0,\n",
       "       0, 0, 0, 0, 0, 0, 0, 0, 0, 0, 0, 0, 0, 0, 0, 0, 0, 0, 0, 0, 0, 0,\n",
       "       0, 0, 0, 0, 0, 0, 0, 0, 0, 0, 0, 0, 0, 0, 0, 0, 0, 0, 0, 0, 0, 0,\n",
       "       0, 0, 0, 0, 0, 0, 0, 0, 0, 0, 0, 0, 0, 0, 0, 0, 0, 0, 0, 0, 0, 0,\n",
       "       0, 0, 0, 0, 0, 0, 0, 0, 0, 0, 0, 0, 0, 0, 0, 0, 0, 0, 0, 0, 0, 0,\n",
       "       0, 0, 0, 0, 0, 0, 0, 0, 0, 0, 0, 0, 0, 0, 0, 0, 0, 0, 0, 0, 0, 0,\n",
       "       0, 0, 0, 0, 0, 0, 0, 0, 0, 0, 0, 0, 0, 0, 0, 0, 0, 0, 0, 0, 0, 0,\n",
       "       0, 0, 0, 0, 0, 0, 0, 0, 0, 0, 0, 0, 0, 0, 0, 0, 0, 0, 0, 0, 0, 0,\n",
       "       0, 0, 0, 0, 0, 0, 0, 0, 0, 0, 0, 0, 0, 0, 0, 0, 0, 0, 0, 0, 0, 0,\n",
       "       0, 0, 0, 0, 0, 0, 0, 0, 0, 0, 0, 0, 0, 0, 0, 0, 0, 0, 0, 0, 0, 0,\n",
       "       0, 0, 0, 0, 0, 0, 0, 0, 0, 0, 0, 0, 0, 0, 0, 0, 0, 0, 0, 0, 0, 0,\n",
       "       0, 0, 0, 0, 0, 0, 0, 0, 0, 0, 0, 0, 0, 0, 0, 0, 0, 0, 0, 0, 0, 0,\n",
       "       0, 0, 0, 0, 0, 0, 0, 0, 0, 0, 0, 0, 0, 0, 0, 0, 0, 0, 0, 0, 0, 0,\n",
       "       0, 0, 0, 0, 0, 0, 0, 0, 0, 0, 0, 0, 0, 0, 0, 0, 0, 0, 0, 0, 0, 0,\n",
       "       0, 0, 0, 0, 0, 0, 0, 0, 0, 0, 0, 0, 0, 0, 0, 0, 0, 0, 0, 0, 0, 0,\n",
       "       0, 0, 0, 0, 0, 0, 0, 0, 1, 1, 1, 1, 1, 1, 1, 1, 1, 1, 1, 1, 1, 1,\n",
       "       1, 1, 1, 1, 1, 1, 1, 1, 1, 1, 1, 1, 1, 1, 1, 1, 1, 1, 1, 1, 1, 1,\n",
       "       1, 1, 1, 1, 1, 1, 1, 1, 1, 1, 1, 1, 1, 1, 1, 1, 1, 1, 1, 1, 1, 1,\n",
       "       1, 1, 1, 1, 1, 1, 1, 1, 1, 1, 1, 1, 1, 1, 1, 1, 1, 1, 1, 1, 1, 1,\n",
       "       1, 1, 1, 1, 1, 1, 1, 1, 1, 1, 1, 1, 1, 1, 1, 1, 1, 1, 1, 1, 1, 1,\n",
       "       1, 1, 1, 1, 1, 1, 1, 1, 1, 1, 1, 1, 1, 1, 1, 1, 1, 1, 1, 1, 1, 1,\n",
       "       1, 1, 1, 1, 1, 1, 1, 1, 1, 1, 1, 1, 1, 1, 1, 1, 1, 1, 1, 1, 1, 1,\n",
       "       1, 1, 1, 1, 1, 1, 1, 1, 1, 1, 1, 1, 1, 1, 1, 1, 1, 1, 1, 1, 1, 1,\n",
       "       1, 1, 1, 1, 1, 1, 1, 1, 1, 1, 1, 1, 1, 1, 1, 1, 1, 1, 1, 1, 1, 1,\n",
       "       1, 1, 1, 1, 1, 1, 1, 1, 1, 1, 1, 1, 1, 1, 1, 1, 1, 1, 1, 1, 1, 1,\n",
       "       1, 1, 1, 1, 1, 1, 1, 1, 1, 1, 1, 1, 1, 1, 1, 1, 1, 1, 1, 1, 1, 1,\n",
       "       1, 1, 1, 1, 1, 1, 1, 1, 1, 1, 1, 1, 1, 1, 1, 1, 1, 1, 1, 1, 1, 1,\n",
       "       1, 1, 1, 1, 1, 1, 1, 1, 1, 1, 1, 1, 1, 1, 1, 1, 1, 1, 1, 1, 1, 1,\n",
       "       1, 1, 1, 1, 1, 1, 1, 1, 1, 1, 1, 1, 1, 1, 1, 1, 1, 1, 1, 1, 1, 1,\n",
       "       1, 1, 1, 1, 1, 1, 1, 1, 1, 1, 1, 1, 1, 1, 1, 1, 1, 1, 1, 1, 1, 1,\n",
       "       1, 1, 1, 1, 1, 1, 1, 1, 1, 1, 1, 1, 1, 1, 1, 1, 1, 1, 1, 1, 1, 1,\n",
       "       1, 1, 1, 1, 1, 1, 1, 1, 1, 1, 1, 1, 1, 1, 1, 1, 1, 1, 1, 1, 1, 1,\n",
       "       1, 1, 1, 1, 1, 1, 1, 1, 1, 1, 1, 1, 1, 1, 1, 1, 1, 1, 1, 1, 1, 1,\n",
       "       1, 1, 1, 1, 1, 1, 1, 1, 1, 1, 1, 1, 1, 1, 1, 1, 1, 1, 1, 1, 1, 1,\n",
       "       1, 1, 1, 1])"
      ]
     },
     "execution_count": 36,
     "metadata": {},
     "output_type": "execute_result"
    }
   ],
   "source": [
    "test_set.classes"
   ]
  },
  {
   "cell_type": "code",
   "execution_count": 37,
   "metadata": {
    "colab": {
     "base_uri": "https://localhost:8080/"
    },
    "id": "xYSS4dNoLThl",
    "outputId": "b547ef0a-82a6-4acb-d730-70740170e0b6"
   },
   "outputs": [
    {
     "name": "stdout",
     "output_type": "stream",
     "text": [
      "53/53 [==============================] - 17s 305ms/step\n",
      "[[5.33389742e-04]\n",
      " [1.70177687e-02]\n",
      " [1.59851951e-03]\n",
      " [7.48083368e-02]\n",
      " [4.26266715e-02]\n",
      " [1.16409974e-05]\n",
      " [2.27761623e-02]\n",
      " [3.26063528e-05]\n",
      " [2.23526324e-04]\n",
      " [4.26470011e-04]\n",
      " [8.37354176e-03]\n",
      " [5.35535812e-03]\n",
      " [1.80067271e-02]\n",
      " [1.47848832e-03]\n",
      " [3.27764754e-03]\n",
      " [3.94819044e-02]\n",
      " [2.88342703e-02]\n",
      " [1.92092732e-02]\n",
      " [1.78597253e-02]\n",
      " [9.90580842e-02]\n",
      " [7.01541603e-01]\n",
      " [1.88323528e-01]\n",
      " [1.27915544e-02]\n",
      " [4.85480792e-04]\n",
      " [1.54956906e-05]\n",
      " [9.05121735e-04]\n",
      " [1.29272824e-03]\n",
      " [1.09545981e-04]\n",
      " [2.61526700e-04]\n",
      " [4.22691042e-03]\n",
      " [7.07634315e-02]\n",
      " [9.05449095e-04]\n",
      " [1.73908956e-02]\n",
      " [2.57516134e-04]\n",
      " [6.36182434e-04]\n",
      " [8.94115567e-02]\n",
      " [5.12264716e-03]\n",
      " [5.48312619e-06]\n",
      " [3.32582905e-03]\n",
      " [4.17258544e-03]\n",
      " [7.98157766e-04]\n",
      " [1.11640652e-03]\n",
      " [2.28961650e-02]\n",
      " [1.04016420e-02]\n",
      " [2.41389475e-03]\n",
      " [5.13719686e-04]\n",
      " [1.74684241e-01]\n",
      " [2.43627699e-03]\n",
      " [7.42723569e-02]\n",
      " [1.30516011e-02]\n",
      " [8.42958130e-03]\n",
      " [4.14515707e-05]\n",
      " [7.87716941e-04]\n",
      " [2.64655296e-02]\n",
      " [4.67770547e-02]\n",
      " [1.50029908e-03]\n",
      " [3.53609631e-03]\n",
      " [1.07658887e-02]\n",
      " [4.19410085e-03]\n",
      " [5.36962689e-05]\n",
      " [1.77409351e-02]\n",
      " [4.59496491e-03]\n",
      " [1.03933793e-02]\n",
      " [9.66787920e-04]\n",
      " [1.10262204e-02]\n",
      " [3.61527840e-04]\n",
      " [1.23131019e-03]\n",
      " [5.26765212e-02]\n",
      " [5.51441190e-06]\n",
      " [3.15317921e-02]\n",
      " [3.77948098e-02]\n",
      " [3.84486555e-07]\n",
      " [1.52175222e-02]\n",
      " [2.27848608e-02]\n",
      " [2.67140251e-02]\n",
      " [4.86442208e-04]\n",
      " [1.46659533e-03]\n",
      " [4.47128773e-01]\n",
      " [2.62750965e-03]\n",
      " [3.96622665e-04]\n",
      " [3.31909843e-02]\n",
      " [4.14675815e-05]\n",
      " [4.94570704e-04]\n",
      " [3.00457032e-04]\n",
      " [1.00285433e-04]\n",
      " [1.93215138e-03]\n",
      " [9.80114564e-03]\n",
      " [1.03756807e-04]\n",
      " [1.40364212e-03]\n",
      " [7.60382158e-04]\n",
      " [5.42350067e-03]\n",
      " [1.28931180e-03]\n",
      " [8.01498964e-02]\n",
      " [7.44963298e-04]\n",
      " [8.21492358e-05]\n",
      " [1.73572771e-04]\n",
      " [1.47498189e-03]\n",
      " [1.99595187e-03]\n",
      " [9.52063827e-04]\n",
      " [5.91076503e-04]\n",
      " [1.72429776e-04]\n",
      " [2.94940150e-03]\n",
      " [1.82025600e-03]\n",
      " [2.47400883e-03]\n",
      " [2.15013791e-03]\n",
      " [1.73994643e-03]\n",
      " [1.17595249e-03]\n",
      " [1.37266796e-03]\n",
      " [4.42292169e-03]\n",
      " [2.66502029e-04]\n",
      " [1.12839080e-02]\n",
      " [9.16161371e-05]\n",
      " [2.02343963e-05]\n",
      " [1.82422041e-03]\n",
      " [1.39231177e-03]\n",
      " [1.82320399e-03]\n",
      " [1.92234118e-04]\n",
      " [1.67079875e-03]\n",
      " [2.13400344e-03]\n",
      " [3.83795472e-03]\n",
      " [8.22638278e-04]\n",
      " [1.30946617e-04]\n",
      " [9.26731627e-06]\n",
      " [2.10391477e-06]\n",
      " [1.22916674e-06]\n",
      " [1.06630671e-06]\n",
      " [6.42588520e-06]\n",
      " [2.05845572e-05]\n",
      " [2.66458960e-06]\n",
      " [2.43181012e-06]\n",
      " [1.91384061e-05]\n",
      " [2.10508711e-06]\n",
      " [5.31513579e-05]\n",
      " [9.87375379e-01]\n",
      " [1.35053668e-09]\n",
      " [9.20029108e-10]\n",
      " [4.06770830e-08]\n",
      " [7.87461204e-07]\n",
      " [3.45407830e-06]\n",
      " [1.46155007e-05]\n",
      " [3.35971945e-10]\n",
      " [2.16735640e-11]\n",
      " [4.78533195e-07]\n",
      " [9.93686535e-06]\n",
      " [6.12072290e-06]\n",
      " [9.89191631e-06]\n",
      " [7.89727153e-07]\n",
      " [1.65556884e-07]\n",
      " [6.81377230e-07]\n",
      " [5.41881964e-05]\n",
      " [1.08939603e-04]\n",
      " [3.50178416e-05]\n",
      " [9.19332777e-10]\n",
      " [3.61305214e-02]\n",
      " [5.33454877e-05]\n",
      " [2.66249059e-04]\n",
      " [2.40415943e-06]\n",
      " [8.61796889e-06]\n",
      " [3.58008521e-07]\n",
      " [1.78815098e-05]\n",
      " [1.70898147e-05]\n",
      " [8.76301613e-07]\n",
      " [2.23683128e-05]\n",
      " [1.48664294e-02]\n",
      " [5.23045175e-02]\n",
      " [1.14937611e-02]\n",
      " [3.13657196e-03]\n",
      " [3.62946167e-07]\n",
      " [7.74852288e-06]\n",
      " [4.71348967e-03]\n",
      " [3.05798138e-04]\n",
      " [1.18081793e-07]\n",
      " [7.05428738e-06]\n",
      " [9.44938529e-06]\n",
      " [4.92134495e-05]\n",
      " [3.18875521e-01]\n",
      " [3.05697972e-06]\n",
      " [1.13772906e-07]\n",
      " [1.50536861e-09]\n",
      " [4.25206451e-07]\n",
      " [1.67773820e-07]\n",
      " [6.62062405e-07]\n",
      " [2.01257621e-03]\n",
      " [4.49517801e-09]\n",
      " [2.75518705e-05]\n",
      " [3.26778462e-08]\n",
      " [6.28356815e-07]\n",
      " [6.45621819e-03]\n",
      " [3.15284550e-01]\n",
      " [1.06326719e-04]\n",
      " [1.35240413e-07]\n",
      " [8.38824315e-04]\n",
      " [2.73650400e-08]\n",
      " [2.37667235e-04]\n",
      " [2.94203317e-04]\n",
      " [2.79999422e-05]\n",
      " [8.86530493e-09]\n",
      " [1.70399130e-06]\n",
      " [9.68638290e-08]\n",
      " [4.12828849e-05]\n",
      " [4.23939287e-04]\n",
      " [8.12921822e-01]\n",
      " [1.51512248e-03]\n",
      " [1.24966562e-06]\n",
      " [9.96382710e-08]\n",
      " [1.04178260e-04]\n",
      " [2.12274417e-01]\n",
      " [2.49553530e-04]\n",
      " [5.15655279e-01]\n",
      " [1.43181381e-03]\n",
      " [6.97009116e-02]\n",
      " [6.83588269e-06]\n",
      " [2.81247366e-02]\n",
      " [8.43712478e-04]\n",
      " [1.69473265e-06]\n",
      " [1.32170499e-05]\n",
      " [3.75779241e-01]\n",
      " [5.50511301e-01]\n",
      " [9.74744641e-09]\n",
      " [8.61404459e-09]\n",
      " [5.39570174e-04]\n",
      " [1.41573716e-02]\n",
      " [1.28902248e-05]\n",
      " [6.49905356e-04]\n",
      " [5.17672197e-06]\n",
      " [4.27489169e-02]\n",
      " [1.39952283e-06]\n",
      " [5.12918348e-08]\n",
      " [4.50387124e-05]\n",
      " [1.04347794e-06]\n",
      " [4.91520550e-05]\n",
      " [6.20056184e-08]\n",
      " [1.56447902e-06]\n",
      " [1.94885843e-06]\n",
      " [2.16965291e-05]\n",
      " [9.86161976e-05]\n",
      " [8.49710050e-05]\n",
      " [1.63861398e-06]\n",
      " [8.18344237e-09]\n",
      " [1.33318827e-06]\n",
      " [5.64210296e-08]\n",
      " [1.02769525e-06]\n",
      " [1.01069375e-08]\n",
      " [3.09487543e-04]\n",
      " [3.07425785e-06]\n",
      " [1.21295798e-07]\n",
      " [3.55391356e-04]\n",
      " [2.62183999e-08]\n",
      " [1.45882638e-07]\n",
      " [2.26458133e-06]\n",
      " [3.38514494e-11]\n",
      " [2.47600838e-07]\n",
      " [2.63948522e-07]\n",
      " [1.57064060e-05]\n",
      " [4.74893909e-07]\n",
      " [4.47932631e-04]\n",
      " [3.92935284e-08]\n",
      " [4.48723938e-07]\n",
      " [6.36856923e-09]\n",
      " [8.55303188e-06]\n",
      " [1.87721727e-09]\n",
      " [1.05652953e-06]\n",
      " [1.81454725e-05]\n",
      " [4.25720998e-07]\n",
      " [1.24828475e-07]\n",
      " [5.91107323e-07]\n",
      " [2.31197941e-08]\n",
      " [7.16447257e-09]\n",
      " [5.42919952e-06]\n",
      " [3.11734766e-05]\n",
      " [7.71943814e-05]\n",
      " [5.26297335e-05]\n",
      " [1.20769855e-05]\n",
      " [1.61266871e-05]\n",
      " [6.95432862e-03]\n",
      " [1.89308521e-05]\n",
      " [2.71911327e-10]\n",
      " [1.36433539e-06]\n",
      " [7.13086338e-05]\n",
      " [1.99116748e-05]\n",
      " [8.22494499e-08]\n",
      " [1.04062690e-06]\n",
      " [8.54080077e-03]\n",
      " [2.98623348e-08]\n",
      " [7.01015597e-05]\n",
      " [2.54914653e-07]\n",
      " [4.53204141e-09]\n",
      " [2.18606474e-05]\n",
      " [1.53923141e-09]\n",
      " [6.30132172e-06]\n",
      " [1.44411111e-04]\n",
      " [8.43084399e-06]\n",
      " [3.27773978e-06]\n",
      " [1.22893937e-06]\n",
      " [9.85596216e-07]\n",
      " [3.85535095e-04]\n",
      " [5.31133381e-04]\n",
      " [7.32309651e-04]\n",
      " [3.59665563e-07]\n",
      " [1.54320860e-05]\n",
      " [2.59691888e-07]\n",
      " [1.80550197e-09]\n",
      " [1.45301286e-07]\n",
      " [2.06204334e-08]\n",
      " [2.79289791e-09]\n",
      " [1.53509372e-10]\n",
      " [1.12756834e-06]\n",
      " [3.89765686e-09]\n",
      " [2.62221547e-05]\n",
      " [1.43920388e-07]\n",
      " [1.77629659e-07]\n",
      " [9.10052194e-08]\n",
      " [1.91702361e-06]\n",
      " [1.63351828e-07]\n",
      " [1.54982934e-06]\n",
      " [1.39186662e-09]\n",
      " [4.19867474e-11]\n",
      " [4.79299516e-08]\n",
      " [6.75665942e-05]\n",
      " [2.94225337e-08]\n",
      " [1.12636565e-06]\n",
      " [5.65705307e-07]\n",
      " [6.24797503e-09]\n",
      " [6.98245799e-08]\n",
      " [3.87681808e-07]\n",
      " [2.51502411e-06]\n",
      " [1.58008426e-10]\n",
      " [4.79942673e-06]\n",
      " [3.65469896e-06]\n",
      " [4.37081127e-08]\n",
      " [3.08379384e-07]\n",
      " [1.99118305e-10]\n",
      " [2.16577364e-11]\n",
      " [1.61443126e-08]\n",
      " [3.18221328e-06]\n",
      " [5.95286274e-08]\n",
      " [9.27449776e-07]\n",
      " [1.95372163e-09]\n",
      " [8.13799852e-05]\n",
      " [8.09948109e-09]\n",
      " [9.60508441e-06]\n",
      " [5.63529011e-06]\n",
      " [6.05422414e-08]\n",
      " [9.13201035e-08]\n",
      " [8.37373136e-07]\n",
      " [3.29401119e-05]\n",
      " [7.59313989e-05]\n",
      " [1.08976928e-05]\n",
      " [1.02358303e-04]\n",
      " [1.61592634e-05]\n",
      " [2.96383678e-06]\n",
      " [4.49937488e-07]\n",
      " [3.28906299e-06]\n",
      " [4.59845051e-10]\n",
      " [1.48551365e-07]\n",
      " [1.05177423e-04]\n",
      " [2.09852669e-08]\n",
      " [8.02167324e-06]\n",
      " [3.70778928e-08]\n",
      " [6.92617803e-08]\n",
      " [1.14110544e-05]\n",
      " [5.42589169e-06]\n",
      " [6.26219332e-07]\n",
      " [5.74136311e-06]\n",
      " [1.89303577e-07]\n",
      " [1.12433304e-06]\n",
      " [1.79273130e-07]\n",
      " [7.29472731e-08]\n",
      " [5.02152147e-07]\n",
      " [3.35608483e-08]\n",
      " [2.52310315e-06]\n",
      " [1.59858580e-04]\n",
      " [3.74928987e-07]\n",
      " [1.02037473e-06]\n",
      " [6.72939837e-09]\n",
      " [6.69048177e-08]\n",
      " [1.28477359e-05]\n",
      " [1.02218837e-06]\n",
      " [6.39214148e-09]\n",
      " [1.63026712e-07]\n",
      " [3.38743950e-10]\n",
      " [1.60031675e-07]\n",
      " [3.02351530e-08]\n",
      " [1.16556830e-05]\n",
      " [1.01141113e-08]\n",
      " [3.61004754e-06]\n",
      " [1.90227036e-06]\n",
      " [1.65544577e-07]\n",
      " [5.97373355e-06]\n",
      " [1.46526389e-07]\n",
      " [3.31445226e-05]\n",
      " [2.42596121e-09]\n",
      " [1.07614778e-06]\n",
      " [9.22831811e-11]\n",
      " [3.19252540e-05]\n",
      " [3.00649354e-08]\n",
      " [1.07525878e-07]\n",
      " [1.93043135e-07]\n",
      " [3.68555902e-07]\n",
      " [6.16777101e-08]\n",
      " [2.91028002e-04]\n",
      " [3.88469834e-09]\n",
      " [4.85159376e-07]\n",
      " [1.01260302e-04]\n",
      " [2.17740933e-04]\n",
      " [1.14988830e-09]\n",
      " [4.17612374e-01]\n",
      " [1.18760590e-06]\n",
      " [9.57119255e-07]\n",
      " [5.79949110e-12]\n",
      " [3.04734513e-08]\n",
      " [1.34447800e-10]\n",
      " [3.30016483e-05]\n",
      " [2.16076401e-08]\n",
      " [1.47018667e-07]\n",
      " [9.25788045e-01]\n",
      " [4.53218809e-06]\n",
      " [3.42880376e-05]\n",
      " [1.95253117e-04]\n",
      " [4.46725498e-05]\n",
      " [2.54670158e-04]\n",
      " [1.09557041e-04]\n",
      " [3.13454290e-10]\n",
      " [1.99851570e-07]\n",
      " [6.33246100e-06]\n",
      " [3.10991684e-11]\n",
      " [9.99645472e-01]\n",
      " [9.99995828e-01]\n",
      " [9.98616934e-01]\n",
      " [9.99805391e-01]\n",
      " [9.99848723e-01]\n",
      " [9.99701083e-01]\n",
      " [9.99257863e-01]\n",
      " [9.97898817e-01]\n",
      " [9.98619676e-01]\n",
      " [9.99899030e-01]\n",
      " [9.99990702e-01]\n",
      " [9.99836087e-01]\n",
      " [9.99915361e-01]\n",
      " [1.00000000e+00]\n",
      " [9.99791324e-01]\n",
      " [9.99773800e-01]\n",
      " [9.99956131e-01]\n",
      " [9.99909520e-01]\n",
      " [9.98830736e-01]\n",
      " [9.99475062e-01]\n",
      " [9.99986291e-01]\n",
      " [9.99591768e-01]\n",
      " [9.99987006e-01]\n",
      " [9.99986291e-01]\n",
      " [9.99987006e-01]\n",
      " [9.99897838e-01]\n",
      " [9.99869227e-01]\n",
      " [9.99702990e-01]\n",
      " [9.99782383e-01]\n",
      " [9.99485373e-01]\n",
      " [9.99641538e-01]\n",
      " [9.99883890e-01]\n",
      " [9.99839664e-01]\n",
      " [9.99485373e-01]\n",
      " [9.99921560e-01]\n",
      " [9.99816000e-01]\n",
      " [9.99112666e-01]\n",
      " [9.99353468e-01]\n",
      " [9.98839676e-01]\n",
      " [9.99573886e-01]\n",
      " [9.99832392e-01]\n",
      " [9.95415688e-01]\n",
      " [9.99830842e-01]\n",
      " [9.99718368e-01]\n",
      " [9.99674559e-01]\n",
      " [9.99993563e-01]\n",
      " [9.99674559e-01]\n",
      " [9.99986529e-01]\n",
      " [9.99878407e-01]\n",
      " [9.97532129e-01]\n",
      " [9.99312401e-01]\n",
      " [9.99971986e-01]\n",
      " [9.99983788e-01]\n",
      " [9.99776065e-01]\n",
      " [9.99775231e-01]\n",
      " [9.99775231e-01]\n",
      " [9.99554813e-01]\n",
      " [9.98573184e-01]\n",
      " [9.99942422e-01]\n",
      " [9.99881148e-01]\n",
      " [9.99800146e-01]\n",
      " [9.99993086e-01]\n",
      " [9.99971271e-01]\n",
      " [9.99674439e-01]\n",
      " [9.99202907e-01]\n",
      " [9.99999404e-01]\n",
      " [9.99922872e-01]\n",
      " [9.99671459e-01]\n",
      " [9.99458015e-01]\n",
      " [9.99937177e-01]\n",
      " [9.97302175e-01]\n",
      " [9.99097109e-01]\n",
      " [9.99691963e-01]\n",
      " [9.99219179e-01]\n",
      " [9.99962568e-01]\n",
      " [9.98997509e-01]\n",
      " [9.99950528e-01]\n",
      " [9.99643683e-01]\n",
      " [9.99859571e-01]\n",
      " [9.99704063e-01]\n",
      " [9.99949694e-01]\n",
      " [9.99920964e-01]\n",
      " [9.99999881e-01]\n",
      " [9.99920249e-01]\n",
      " [9.99942303e-01]\n",
      " [9.99823034e-01]\n",
      " [9.99823034e-01]\n",
      " [9.98417020e-01]\n",
      " [9.99999166e-01]\n",
      " [9.94659483e-01]\n",
      " [9.99609172e-01]\n",
      " [9.99360383e-01]\n",
      " [9.99776542e-01]\n",
      " [9.99720633e-01]\n",
      " [9.99966264e-01]\n",
      " [1.00000000e+00]\n",
      " [9.99994397e-01]\n",
      " [9.99921799e-01]\n",
      " [9.99974370e-01]\n",
      " [9.99387503e-01]\n",
      " [9.99176204e-01]\n",
      " [9.99218345e-01]\n",
      " [9.98822629e-01]\n",
      " [9.99829769e-01]\n",
      " [9.99034047e-01]\n",
      " [9.99019980e-01]\n",
      " [9.98982012e-01]\n",
      " [9.99810159e-01]\n",
      " [9.99885917e-01]\n",
      " [9.99730170e-01]\n",
      " [9.99991775e-01]\n",
      " [9.99807656e-01]\n",
      " [9.99992728e-01]\n",
      " [9.99694347e-01]\n",
      " [9.99705493e-01]\n",
      " [9.99858975e-01]\n",
      " [9.99896407e-01]\n",
      " [9.99647379e-01]\n",
      " [9.99217510e-01]\n",
      " [9.99478042e-01]\n",
      " [9.99478042e-01]\n",
      " [9.99986768e-01]\n",
      " [9.99425411e-01]\n",
      " [9.96104956e-01]\n",
      " [9.99980569e-01]\n",
      " [9.99764740e-01]\n",
      " [9.99764740e-01]\n",
      " [9.99002993e-01]\n",
      " [9.99988794e-01]\n",
      " [9.99449670e-01]\n",
      " [9.99446213e-01]\n",
      " [9.99552548e-01]\n",
      " [9.98945892e-01]\n",
      " [9.99406338e-01]\n",
      " [9.99950051e-01]\n",
      " [9.99693632e-01]\n",
      " [9.99660730e-01]\n",
      " [9.99881864e-01]\n",
      " [9.99392986e-01]\n",
      " [9.99950767e-01]\n",
      " [9.98538136e-01]\n",
      " [9.99490976e-01]\n",
      " [9.99910712e-01]\n",
      " [9.99716103e-01]\n",
      " [9.99981284e-01]\n",
      " [9.99997020e-01]\n",
      " [9.99894381e-01]\n",
      " [9.99984860e-01]\n",
      " [9.99979258e-01]\n",
      " [9.99607503e-01]\n",
      " [9.99992490e-01]\n",
      " [9.99999762e-01]\n",
      " [9.99193013e-01]\n",
      " [9.99092817e-01]\n",
      " [9.99986172e-01]\n",
      " [9.99984264e-01]\n",
      " [9.99822199e-01]\n",
      " [9.99033689e-01]\n",
      " [9.99823987e-01]\n",
      " [9.99802887e-01]\n",
      " [9.99907374e-01]\n",
      " [9.99992490e-01]\n",
      " [9.99993801e-01]\n",
      " [9.98402894e-01]\n",
      " [9.99754131e-01]\n",
      " [9.99612272e-01]\n",
      " [9.99924898e-01]\n",
      " [9.99431551e-01]\n",
      " [9.99972463e-01]\n",
      " [9.99978781e-01]\n",
      " [9.99542356e-01]\n",
      " [9.99978781e-01]\n",
      " [9.98565853e-01]\n",
      " [9.99994159e-01]\n",
      " [9.99637842e-01]\n",
      " [9.99959588e-01]\n",
      " [9.99807417e-01]\n",
      " [9.96949136e-01]\n",
      " [9.96949136e-01]\n",
      " [9.99962449e-01]\n",
      " [9.99666333e-01]\n",
      " [9.99999285e-01]\n",
      " [9.99741495e-01]\n",
      " [9.99721229e-01]\n",
      " [9.99870300e-01]\n",
      " [9.99813974e-01]\n",
      " [9.99119580e-01]\n",
      " [9.99941468e-01]\n",
      " [9.99808252e-01]\n",
      " [9.99759495e-01]\n",
      " [9.99542117e-01]\n",
      " [9.96929109e-01]\n",
      " [9.99942541e-01]\n",
      " [9.99942541e-01]\n",
      " [9.99946713e-01]\n",
      " [9.99271691e-01]\n",
      " [9.99271691e-01]\n",
      " [9.99160647e-01]\n",
      " [9.99903321e-01]\n",
      " [9.98641908e-01]\n",
      " [9.99626994e-01]\n",
      " [9.99626994e-01]\n",
      " [9.98583555e-01]\n",
      " [9.99863863e-01]\n",
      " [9.99331355e-01]\n",
      " [9.99837041e-01]\n",
      " [9.99780595e-01]\n",
      " [9.99886990e-01]\n",
      " [9.96746898e-01]\n",
      " [9.96969879e-01]\n",
      " [9.99977231e-01]\n",
      " [9.99317884e-01]\n",
      " [9.99283254e-01]\n",
      " [9.99586523e-01]\n",
      " [9.95127678e-01]\n",
      " [9.99320149e-01]\n",
      " [9.99862671e-01]\n",
      " [9.99898076e-01]\n",
      " [9.99959588e-01]\n",
      " [9.99912977e-01]\n",
      " [9.99959111e-01]\n",
      " [9.99566257e-01]\n",
      " [9.99636769e-01]\n",
      " [9.99980569e-01]\n",
      " [9.99859810e-01]\n",
      " [9.99575317e-01]\n",
      " [1.00000000e+00]\n",
      " [9.98723328e-01]\n",
      " [9.98723328e-01]\n",
      " [9.99677420e-01]\n",
      " [9.99983907e-01]\n",
      " [9.99982595e-01]\n",
      " [9.99727666e-01]\n",
      " [9.99619484e-01]\n",
      " [9.99674916e-01]\n",
      " [9.99509692e-01]\n",
      " [9.99165893e-01]\n",
      " [9.99958396e-01]\n",
      " [9.99957442e-01]\n",
      " [9.99970913e-01]\n",
      " [9.99889612e-01]\n",
      " [9.98950720e-01]\n",
      " [9.97651637e-01]\n",
      " [9.99633670e-01]\n",
      " [9.98275995e-01]\n",
      " [9.99956965e-01]\n",
      " [9.99956965e-01]\n",
      " [9.99902725e-01]\n",
      " [9.99892235e-01]\n",
      " [9.99892235e-01]\n",
      " [9.99971747e-01]\n",
      " [9.97832119e-01]\n",
      " [9.99831438e-01]\n",
      " [9.99917150e-01]\n",
      " [9.99984622e-01]\n",
      " [9.99984622e-01]\n",
      " [9.99339521e-01]\n",
      " [9.99861598e-01]\n",
      " [9.99807417e-01]\n",
      " [9.99875784e-01]\n",
      " [9.99762714e-01]\n",
      " [9.99635220e-01]\n",
      " [9.99244571e-01]\n",
      " [9.99996185e-01]\n",
      " [9.99961972e-01]\n",
      " [9.99513745e-01]\n",
      " [9.99294281e-01]\n",
      " [9.99731719e-01]\n",
      " [9.99980569e-01]\n",
      " [9.99603927e-01]\n",
      " [9.99671698e-01]\n",
      " [9.99928594e-01]\n",
      " [9.99798357e-01]\n",
      " [9.98784244e-01]\n",
      " [9.99880195e-01]\n",
      " [9.99880910e-01]\n",
      " [9.99683619e-01]\n",
      " [9.98829901e-01]\n",
      " [9.99541640e-01]\n",
      " [9.98536468e-01]\n",
      " [9.99961495e-01]\n",
      " [9.99857306e-01]\n",
      " [9.99316454e-01]\n",
      " [9.99990821e-01]\n",
      " [9.99835134e-01]\n",
      " [9.99980450e-01]\n",
      " [9.99936342e-01]\n",
      " [9.99949813e-01]\n",
      " [9.99997020e-01]\n",
      " [9.99917150e-01]\n",
      " [9.99370635e-01]\n",
      " [9.99003708e-01]\n",
      " [9.99821246e-01]\n",
      " [9.99325991e-01]\n",
      " [9.99445140e-01]\n",
      " [9.99943495e-01]\n",
      " [9.99999881e-01]\n",
      " [9.99999881e-01]\n",
      " [9.99516010e-01]\n",
      " [9.98273611e-01]\n",
      " [9.99835849e-01]\n",
      " [9.99381900e-01]\n",
      " [9.99923229e-01]\n",
      " [9.99984384e-01]\n",
      " [9.99987841e-01]\n",
      " [9.99858618e-01]\n",
      " [9.97129977e-01]\n",
      " [9.97704923e-01]\n",
      " [9.98647153e-01]\n",
      " [9.99964714e-01]\n",
      " [9.99498963e-01]\n",
      " [9.99257028e-01]\n",
      " [9.99615669e-01]\n",
      " [9.99914527e-01]\n",
      " [9.99824822e-01]\n",
      " [9.99824822e-01]\n",
      " [9.99917865e-01]\n",
      " [9.99907374e-01]\n",
      " [9.99871492e-01]\n",
      " [9.99978304e-01]\n",
      " [9.99859333e-01]\n",
      " [9.98952270e-01]\n",
      " [9.99475181e-01]\n",
      " [9.95864511e-01]\n",
      " [9.99817431e-01]\n",
      " [9.99993801e-01]\n",
      " [9.99529362e-01]\n",
      " [9.99659538e-01]\n",
      " [9.99415398e-01]\n",
      " [9.99902725e-01]\n",
      " [9.99212146e-01]\n",
      " [9.99622703e-01]\n",
      " [9.99503732e-01]\n",
      " [9.99997616e-01]\n",
      " [9.99717295e-01]\n",
      " [9.99932766e-01]\n",
      " [9.99319196e-01]\n",
      " [9.99743044e-01]\n",
      " [9.98894632e-01]\n",
      " [9.99769270e-01]\n",
      " [9.99825060e-01]\n",
      " [9.99353588e-01]\n",
      " [9.99423742e-01]\n",
      " [9.99769270e-01]\n",
      " [9.99996662e-01]\n",
      " [9.99930382e-01]\n",
      " [9.99789894e-01]\n",
      " [9.99984384e-01]\n",
      " [9.99063790e-01]\n",
      " [9.99939561e-01]\n",
      " [9.99918699e-01]\n",
      " [9.99915004e-01]\n",
      " [9.98747349e-01]\n",
      " [9.99813139e-01]\n",
      " [9.99881983e-01]\n",
      " [9.99382138e-01]\n",
      " [9.99887586e-01]\n",
      " [9.99188125e-01]\n",
      " [9.99990940e-01]\n",
      " [9.99531388e-01]\n",
      " [9.98613000e-01]\n",
      " [9.99925971e-01]\n",
      " [9.99924660e-01]\n",
      " [9.99633551e-01]\n",
      " [9.99920011e-01]\n",
      " [9.99971390e-01]\n",
      " [9.99689698e-01]\n",
      " [9.99142408e-01]\n",
      " [9.99780238e-01]\n",
      " [9.99999523e-01]\n",
      " [9.99857903e-01]\n",
      " [9.99540091e-01]\n",
      " [9.98251617e-01]\n",
      " [9.99999523e-01]\n",
      " [9.99986053e-01]\n",
      " [9.99989390e-01]\n",
      " [9.99789417e-01]\n",
      " [9.98889267e-01]\n",
      " [9.99954820e-01]\n",
      " [9.99747574e-01]\n",
      " [9.99836564e-01]\n",
      " [9.99928474e-01]\n",
      " [9.99354780e-01]\n",
      " [9.99786794e-01]\n",
      " [9.99080658e-01]\n",
      " [9.99982476e-01]\n",
      " [9.99995112e-01]\n",
      " [9.99998689e-01]\n",
      " [9.92814481e-01]\n",
      " [9.99793947e-01]\n",
      " [9.99065459e-01]\n",
      " [9.99987602e-01]\n",
      " [9.99987602e-01]\n",
      " [9.99571502e-01]\n",
      " [9.99999046e-01]\n",
      " [9.98650134e-01]\n",
      " [9.99964952e-01]\n",
      " [9.99966741e-01]\n",
      " [9.99897242e-01]\n",
      " [9.99853134e-01]\n",
      " [9.99660134e-01]\n",
      " [9.99951839e-01]\n",
      " [9.99574482e-01]\n",
      " [9.99419570e-01]\n",
      " [9.99314904e-01]\n",
      " [9.99558985e-01]\n",
      " [9.99993682e-01]\n",
      " [9.99984860e-01]\n",
      " [9.98210192e-01]\n",
      " [9.98210192e-01]\n",
      " [9.99985099e-01]\n",
      " [9.99917626e-01]\n",
      " [9.99994755e-01]\n",
      " [9.99747932e-01]]\n"
     ]
    }
   ],
   "source": [
    "from sklearn.metrics import confusion_matrix, classification_report\n",
    "prob = model.predict(test_set)\n",
    "print(prob)"
   ]
  },
  {
   "cell_type": "code",
   "execution_count": 38,
   "metadata": {
    "colab": {
     "base_uri": "https://localhost:8080/"
    },
    "id": "GyUwQywKoSGA",
    "outputId": "cb3ff7a4-078c-48cc-aed9-24a3f9d1613d"
   },
   "outputs": [
    {
     "name": "stdout",
     "output_type": "stream",
     "text": [
      "53/53 [==============================] - 16s 305ms/step\n",
      "[0, 0, 0, 0, 0, 0, 0, 0, 0, 0, 0, 0, 0, 0, 0, 0, 0, 0, 0, 0, 1, 0, 0, 0, 0, 0, 0, 0, 0, 0, 0, 0, 0, 0, 0, 0, 0, 0, 0, 0, 0, 0, 0, 0, 0, 0, 0, 0, 0, 0, 0, 0, 0, 0, 0, 0, 0, 0, 0, 0, 0, 0, 0, 0, 0, 0, 0, 0, 0, 0, 0, 0, 0, 0, 0, 0, 0, 0, 0, 0, 0, 0, 0, 0, 0, 0, 0, 0, 0, 0, 0, 0, 0, 0, 0, 0, 0, 0, 0, 0, 0, 0, 0, 0, 0, 0, 0, 0, 0, 0, 0, 0, 0, 0, 0, 0, 0, 0, 0, 0, 0, 0, 0, 0, 0, 0, 0, 0, 0, 0, 0, 0, 0, 1, 0, 0, 0, 0, 0, 0, 0, 0, 0, 0, 0, 0, 0, 0, 0, 0, 0, 0, 0, 0, 0, 0, 0, 0, 0, 0, 0, 0, 0, 0, 0, 0, 0, 0, 0, 0, 0, 0, 0, 0, 0, 0, 0, 0, 0, 0, 0, 0, 0, 0, 0, 0, 0, 0, 0, 0, 0, 0, 0, 0, 0, 0, 0, 0, 0, 0, 0, 1, 0, 0, 0, 0, 0, 0, 1, 0, 0, 0, 0, 0, 0, 0, 0, 1, 0, 0, 0, 0, 0, 0, 0, 0, 0, 0, 0, 0, 0, 0, 0, 0, 0, 0, 0, 0, 0, 0, 0, 0, 0, 0, 0, 0, 0, 0, 0, 0, 0, 0, 0, 0, 0, 0, 0, 0, 0, 0, 0, 0, 0, 0, 0, 0, 0, 0, 0, 0, 0, 0, 0, 0, 0, 0, 0, 0, 0, 0, 0, 0, 0, 0, 0, 0, 0, 0, 0, 0, 0, 0, 0, 0, 0, 0, 0, 0, 0, 0, 0, 0, 0, 0, 0, 0, 0, 0, 0, 0, 0, 0, 0, 0, 0, 0, 0, 0, 0, 0, 0, 0, 0, 0, 0, 0, 0, 0, 0, 0, 0, 0, 0, 0, 0, 0, 0, 0, 0, 0, 0, 0, 0, 0, 0, 0, 0, 0, 0, 0, 0, 0, 0, 0, 0, 0, 0, 0, 0, 0, 0, 0, 0, 0, 0, 0, 0, 0, 0, 0, 0, 0, 0, 0, 0, 0, 0, 0, 0, 0, 0, 0, 0, 0, 0, 0, 0, 0, 0, 0, 0, 0, 0, 0, 0, 0, 0, 0, 0, 0, 0, 0, 0, 0, 0, 0, 0, 0, 0, 0, 0, 0, 0, 0, 0, 1, 0, 0, 0, 0, 0, 0, 0, 0, 0, 0, 1, 1, 1, 1, 1, 1, 1, 1, 1, 1, 1, 1, 1, 1, 1, 1, 1, 1, 1, 1, 1, 1, 1, 1, 1, 1, 1, 1, 1, 1, 1, 1, 1, 1, 1, 1, 1, 1, 1, 1, 1, 1, 1, 1, 1, 1, 1, 1, 1, 1, 1, 1, 1, 1, 1, 1, 1, 1, 1, 1, 1, 1, 1, 1, 1, 1, 1, 1, 1, 1, 1, 1, 1, 1, 1, 1, 1, 1, 1, 1, 1, 1, 1, 1, 1, 1, 1, 1, 1, 1, 1, 1, 1, 1, 1, 1, 1, 1, 1, 1, 1, 1, 1, 1, 1, 1, 1, 1, 1, 1, 1, 1, 1, 1, 1, 1, 1, 1, 1, 1, 1, 1, 1, 1, 1, 1, 1, 1, 1, 1, 1, 1, 1, 1, 1, 1, 1, 1, 1, 1, 1, 1, 1, 1, 1, 1, 1, 1, 1, 1, 1, 1, 1, 1, 1, 1, 1, 1, 1, 1, 1, 1, 1, 1, 1, 1, 1, 1, 1, 1, 1, 1, 1, 1, 1, 1, 1, 1, 1, 1, 1, 1, 1, 1, 1, 1, 1, 1, 1, 1, 1, 1, 1, 1, 1, 1, 1, 1, 1, 1, 1, 1, 1, 1, 1, 1, 1, 1, 1, 1, 1, 1, 1, 1, 1, 1, 1, 1, 1, 1, 1, 1, 1, 1, 1, 1, 1, 1, 1, 1, 1, 1, 1, 1, 1, 1, 1, 1, 1, 1, 1, 1, 1, 1, 1, 1, 1, 1, 1, 1, 1, 1, 1, 1, 1, 1, 1, 1, 1, 1, 1, 1, 1, 1, 1, 1, 1, 1, 1, 1, 1, 1, 1, 1, 1, 1, 1, 1, 1, 1, 1, 1, 1, 1, 1, 1, 1, 1, 1, 1, 1, 1, 1, 1, 1, 1, 1, 1, 1, 1, 1, 1, 1, 1, 1, 1, 1, 1, 1, 1, 1, 1, 1, 1, 1, 1, 1, 1, 1, 1, 1, 1, 1, 1, 1, 1, 1, 1, 1, 1, 1, 1, 1, 1, 1, 1, 1, 1, 1, 1, 1, 1, 1, 1, 1, 1, 1, 1, 1, 1, 1, 1, 1, 1, 1, 1, 1, 1, 1, 1, 1, 1, 1, 1, 1, 1, 1, 1, 1, 1, 1, 1, 1, 1, 1, 1, 1, 1, 1, 1, 1, 1, 1, 1, 1, 1, 1, 1, 1, 1, 1, 1, 1, 1, 1, 1, 1, 1, 1, 1, 1, 1, 1, 1, 1, 1, 1, 1, 1, 1, 1, 1, 1, 1]\n"
     ]
    }
   ],
   "source": [
    "from sklearn.metrics import confusion_matrix, classification_report\n",
    "prob = model.predict(test_set)\n",
    "result = []\n",
    "for i in range(0,len(prob)):\n",
    "  if prob[i]>0.5:\n",
    "    result.append(1)\n",
    "  else:\n",
    "    result.append(0)\n",
    "\n",
    "print(result)"
   ]
  },
  {
   "cell_type": "code",
   "execution_count": 39,
   "metadata": {
    "colab": {
     "base_uri": "https://localhost:8080/"
    },
    "id": "aUTQreMLncxu",
    "outputId": "1d54b157-1f9c-49be-d7fe-b9cb2067a4e9"
   },
   "outputs": [
    {
     "data": {
      "text/plain": [
       "array([[420,   6],\n",
       "       [  0, 414]], dtype=int64)"
      ]
     },
     "execution_count": 39,
     "metadata": {},
     "output_type": "execute_result"
    }
   ],
   "source": [
    "y_true = test_set.labels\n",
    "y_pred = result\n",
    "cm=confusion_matrix(y_true,y_pred)\n",
    "cm"
   ]
  },
  {
   "cell_type": "code",
   "execution_count": 40,
   "metadata": {
    "colab": {
     "base_uri": "https://localhost:8080/",
     "height": 405
    },
    "id": "HERTADdz4Dgd",
    "outputId": "a57b809a-4e27-43f4-82c2-7caf153426f9"
   },
   "outputs": [
    {
     "data": {
      "text/plain": [
       "Text(95.72222222222221, 0.5, 'Predicted Values')"
      ]
     },
     "execution_count": 40,
     "metadata": {},
     "output_type": "execute_result"
    },
    {
     "data": {
      "image/png": "[encoded data removed]",
      "text/plain": [
       "<Figure size 1000x600 with 2 Axes>"
      ]
     },
     "metadata": {},
     "output_type": "display_data"
    }
   ],
   "source": [
    "import seaborn as sns\n",
    "plt.figure(figsize=(10,6))\n",
    "sns.heatmap(cm,annot=True,fmt='d')\n",
    "plt.xlabel('Actual Values')\n",
    "plt.ylabel('Predicted Values')"
   ]
  },
  {
   "cell_type": "code",
   "execution_count": 41,
   "metadata": {
    "colab": {
     "base_uri": "https://localhost:8080/"
    },
    "id": "ufCPC2Oa4KQR",
    "outputId": "c27b0517-991d-4340-9e3a-2d579cb7e2b5"
   },
   "outputs": [
    {
     "name": "stdout",
     "output_type": "stream",
     "text": [
      "0.9928571428571429 0.9928571428571429 0.9928571428571429 0.9929577464788732 0.9858148842026544\n"
     ]
    }
   ],
   "source": [
    "from sklearn.metrics import accuracy_score, f1_score,matthews_corrcoef,make_scorer, precision_score, recall_score, balanced_accuracy_score\n",
    "score=accuracy_score(y_true,y_pred)\n",
    "# scorers = {\n",
    "#             'f1_score': make_scorer(f1_score, average='micro'),\n",
    "#             # 'precision_score': make_scorer(precision_score, average='micro'),\n",
    "#             # 'recall_score': make_scorer(recall_score, average='micro'),\n",
    "#             'accuracy_score': make_scorer(accuracy_score)\n",
    "# }\n",
    "f1 = f1_score(y_true, y_pred,  average='micro')\n",
    "pre = precision_score(y_true, y_pred,  average='micro')\n",
    "recall = recall_score(y_true, y_pred,  average='micro')\n",
    "acc = balanced_accuracy_score(y_true, y_pred)\n",
    "mcc = matthews_corrcoef(y_true,y_pred)\n",
    "# print(f\"accuracy {score} f1 {f1} mcc {mcc}\")\n",
    "\n",
    "print(f1, pre, recall, acc,mcc)"
   ]
  },
  {
   "cell_type": "code",
   "execution_count": 42,
   "metadata": {
    "id": "pYWLlzNAncxt"
   },
   "outputs": [],
   "source": [
    "# # save it as a h5 file\n",
    "from tensorflow.keras.models import load_model\n",
    "from tensorflow.keras.preprocessing import image\n",
    "model.save('random_mobilenetV2.h5')"
   ]
  },
  {
   "cell_type": "code",
   "execution_count": null,
   "metadata": {
    "id": "AfYEb5xI6CWi"
   },
   "outputs": [],
   "source": [
    "from tensorflow.keras.models import load_model\n",
    "from tensorflow.keras.preprocessing import image\n",
    "model=load_model('/content/random_mobilenetV2.h5')"
   ]
  },
  {
   "cell_type": "code",
   "execution_count": 57,
   "metadata": {
    "colab": {
     "base_uri": "https://localhost:8080/"
    },
    "id": "Tn-qWR4cOOGm",
    "outputId": "1f6b3adb-dc6f-4950-fa77-ccb0541333b5"
   },
   "outputs": [
    {
     "data": {
      "text/plain": [
       "(224, 224, 3)"
      ]
     },
     "execution_count": 57,
     "metadata": {},
     "output_type": "execute_result"
    }
   ],
   "source": [
    "img=image.load_img('/content/drive/MyDrive/dataset/random model/test/medical/1002.png',target_size=(224,224))\n",
    "x=image.img_to_array(img)\n",
    "x=x/255\n",
    "x.shape"
   ]
  },
  {
   "cell_type": "code",
   "execution_count": 58,
   "metadata": {
    "id": "XYQfO2Nkncxw"
   },
   "outputs": [],
   "source": [
    "# # from keras.applications.xception import preprocess_input\n",
    "# import numpy as np\n",
    "# x=np.expand_dims(x,axis=0)\n",
    "# img_data=preprocess_input(x)\n",
    "# img_data.shape"
   ]
  },
  {
   "cell_type": "code",
   "execution_count": 59,
   "metadata": {
    "id": "ShRcn9wtgHHO"
   },
   "outputs": [],
   "source": [
    "img_data = x.reshape(1,224,224,3)"
   ]
  },
  {
   "cell_type": "code",
   "execution_count": 60,
   "metadata": {
    "colab": {
     "base_uri": "https://localhost:8080/"
    },
    "id": "Tb5Q6pSUncxw",
    "outputId": "673fa6a4-99ba-4953-dc70-5bb3e66dc867"
   },
   "outputs": [
    {
     "name": "stdout",
     "output_type": "stream",
     "text": [
      "1/1 [==============================] - 0s 22ms/step\n"
     ]
    },
    {
     "data": {
      "text/plain": [
       "array([[5.4431193e-06]], dtype=float32)"
      ]
     },
     "execution_count": 60,
     "metadata": {},
     "output_type": "execute_result"
    }
   ],
   "source": [
    "result = model.predict(img_data)\n",
    "result"
   ]
  },
  {
   "cell_type": "code",
   "execution_count": null,
   "metadata": {
    "id": "zxKQ6H1Nncxw"
   },
   "outputs": [],
   "source": [
    "a=np.argmax(model.predict(img_data), axis=1)\n",
    "a"
   ]
  },
  {
   "cell_type": "code",
   "execution_count": null,
   "metadata": {
    "id": "PLX8qcC8ncxw"
   },
   "outputs": [],
   "source": [
    "a==0 # 0 = covid, 1 = normal, 2= Pneumonia"
   ]
  },
  {
   "cell_type": "code",
   "execution_count": null,
   "metadata": {
    "id": "fsNICkwx36dV"
   },
   "outputs": [],
   "source": [
    "img_path = '/content/drive/MyDrive/breakHis_project/covid dataset/test/pneumonia/Viral Pneumonia-120.png'\n",
    "\n",
    "category = img_path.split('/')[-1].split('-')[0].upper()\n",
    "true = ''\n",
    "if category == 'COVID':\n",
    "    true = 'COVID'\n",
    "elif category == 'VIRAL PNEUMONIA':\n",
    "    true = 'Viral Pneumonia'\n",
    "else:\n",
    "    true = 'Normal'\n",
    "print(f'True value is : {true}')"
   ]
  },
  {
   "cell_type": "code",
   "execution_count": null,
   "metadata": {
    "id": "Wkk9v-MSnAoC"
   },
   "outputs": [],
   "source": [
    "image = load_img(img_path, target_size=(224, 224))\n",
    "img = img_to_array(image)/255\n",
    "img = img.reshape((1, 224, 224, 3))\n",
    "\n",
    "result = model.predict(img)\n",
    "result = np.argmax(result, axis=-1)\n",
    "print(result)\n",
    "print('Prediction is:')\n",
    "if result == 0:\n",
    "    print(\"COVID\")\n",
    "elif result == 1:\n",
    "    print(\"Normal\")\n",
    "else:\n",
    "    print(\"Viral Pneumonia \")\n",
    "    \n",
    "plt.imshow(image)"
   ]
  }
 ],
 "metadata": {
  "accelerator": "GPU",
  "colab": {
   "collapsed_sections": [],
   "provenance": []
  },
  "gpuClass": "standard",
  "kernelspec": {
   "display_name": "forML",
   "language": "python",
   "name": "forml"
  },
  "language_info": {
   "codemirror_mode": {
    "name": "ipython",
    "version": 3
   },
   "file_extension": ".py",
   "mimetype": "text/x-python",
   "name": "python",
   "nbconvert_exporter": "python",
   "pygments_lexer": "ipython3",
   "version": "3.10.5"
  }
 },
 "nbformat": 4,
 "nbformat_minor": 1
}
